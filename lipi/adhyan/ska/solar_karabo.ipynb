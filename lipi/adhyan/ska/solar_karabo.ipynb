{
 "cells": [
  {
   "cell_type": "code",
   "execution_count": 1,
   "metadata": {},
   "outputs": [
    {
     "name": "stderr",
     "output_type": "stream",
     "text": [
      "WARNING: AstropyDeprecationWarning: The private astropy._erfa module has been made into its own package, pyerfa, which is a dependency of astropy and can be imported directly using \"import erfa\" [astropy._erfa]\n",
      "The RASCIL data directory is not available - continuing but any simulations will fail\n"
     ]
    }
   ],
   "source": [
    "import numpy as np\n",
    "import pytest\n",
    "from numpy.typing import NDArray\n",
    "from ska_sdp_datamodels.visibility import Visibility as RASCILVisibility\n",
    "from typing_extensions import assert_never\n",
    "\n",
    "from karabo.imaging.imager_base import DirtyImagerConfig\n",
    "from karabo.imaging.imager_oskar import OskarDirtyImager\n",
    "from karabo.imaging.imager_rascil import RascilDirtyImager\n",
    "from karabo.imaging.util import (\n",
    "    auto_choose_dirty_imager_from_sim,\n",
    "    auto_choose_dirty_imager_from_vis,\n",
    ")\n",
    "from karabo.simulation.interferometer import InterferometerSimulation\n",
    "from karabo.simulation.observation import Observation\n",
    "from karabo.simulation.sky_model import SkyModel\n",
    "from karabo.simulation.telescope import Telescope\n",
    "from karabo.simulation.visibility import Visibility\n",
    "from karabo.imaging.imager_oskar import OskarDirtyImager, OskarDirtyImagerConfig\n",
    "from karabo.simulator_backend import SimulatorBackend\n",
    "from astropy.io import fits\n",
    "from datetime import datetime, timedelta\n",
    "import matplotlib.pyplot as plt\n",
    "import matplotlib as mpl\n",
    "mpl.use('Tkagg')"
   ]
  },
  {
   "cell_type": "code",
   "execution_count": 13,
   "metadata": {},
   "outputs": [],
   "source": [
    "#telescope_path = '/home/rohit/skao_repo/ska1mid.tm'\n",
    "#telescope_path = '/home/rohit/skao_repo/ska1low.tm'\n",
    "#telescope_path = '/home/rohit/skao_repo/ska-low-AA0.5.tm'\n",
    "#telescope_path = '/home/rohit/skao_repo/ska-mid-AA0.5.tm'\n",
    "#telescope_path = '/home/rohit/skao_repo/ska-low-AA1.tm'\n",
    "#telescope_path = '/home/rohit/skao_repo/ska-mid-AA1.tm'\n",
    "#telescope_path = '/home/rohit/skao_repo/ska-low-AA2.tm'\n",
    "#telescope_path = '/home/rohit/skao_repo/ska-mid-AA2.tm'\n",
    "telescope_path = '/home/rohit/skao_repo/ska-low-AAstar.tm'\n",
    "#telescope_path = '/home/rohit/skao_repo/ska-mid-AAstar.tm'\n",
    "telescope=Telescope.read_OSKAR_tm_file(telescope_path)\n",
    "telescope.read_OSKAR_tm_file(telescope_path)\n",
    "telescope.plot_telescope()\n",
    "plt.show()"
   ]
  },
  {
   "cell_type": "code",
   "execution_count": 102,
   "metadata": {},
   "outputs": [],
   "source": [
    "#telescope_path = '/media/rohit/sdata/ska-solar-files/meerkat.tm'\n",
    "telescope_path = '/media/rohit/sdata/ska-solar-files/ska1mid.tm'\n",
    "#telescope_path = '/media/rohit/sdata/ska-solar-files/mwa.phase1.tm'\n",
    "#telescope_path = '/media/rohit/sdata/ska-solar-files/ska1low.tm'\n",
    "telescope_name='skamid_snap0_500MHz'\n",
    "hour_=0\n",
    "minutes_=1\n",
    "noise_enable_ = False\n",
    "enable_array_beam=False\n",
    "start_frequency_hz_= 500.e6\n",
    "point_source_bool = False # tag 1 / tag 0 is ideal case\n",
    "random_points = False # tag 2\n",
    "if(random_points==True):\n",
    "    size_ = 100\n",
    "else:\n",
    "    size_ = 1\n",
    "point_flux = 100.e4"
   ]
  },
  {
   "cell_type": "code",
   "execution_count": 103,
   "metadata": {},
   "outputs": [
    {
     "name": "stdout",
     "output_type": "stream",
     "text": [
      "868055.5555555557\n"
     ]
    }
   ],
   "source": [
    "path = '/media/rohit/sdata/ska-solar-files/sim/'\n",
    "aa=fits.open(path+'20151203_240MHz_psimas.fits')\n",
    "solar_map=aa[0].data;solar_map_jy=solar_map/np.nanmax(solar_map)*20*1.e4*(start_frequency_hz_/2.4e8)**2\n",
    "ra_sun_center=249.141666667;dec_sun_center=21.986 #16 34 34.52 -21 59 09.7\n",
    "ra_grid,dec_grid=np.meshgrid((np.arange(256)-128)*22.5/3600.,(np.arange(256)-128)*22.5/3600.)\n",
    "ra_grid=ra_grid+ra_sun_center;dec_grid=dec_grid+dec_sun_center\n",
    "idx=np.where(solar_map>0.001*np.nanmax(solar_map))\n",
    "sky_model_ra=ra_grid[idx];sky_model_dec=dec_grid[idx];flux=solar_map_jy[idx]\n",
    "print(flux.max())"
   ]
  },
  {
   "cell_type": "code",
   "execution_count": 104,
   "metadata": {},
   "outputs": [
    {
     "name": "stdout",
     "output_type": "stream",
     "text": [
      "130816\n",
      "65412.89611017922 1.8919645988430576\n"
     ]
    }
   ],
   "source": [
    "layout=np.loadtxt(telescope_path+'/layout.txt')\n",
    "nant=len(layout)\n",
    "nb=int(nant*(nant-1)*0.5)\n",
    "print(nb)\n",
    "base_length=[0]*nb\n",
    "k=0\n",
    "for i in range(nant):\n",
    "    for j in range(i,nant):\n",
    "        if(i!=j):\n",
    "            base_length[k] = np.sqrt((layout[i][0]-layout[j][0])**2 + (layout[i][1]-layout[j][1])**2)\n",
    "            k=k+1\n",
    "base_length=np.array(base_length)\n",
    "beam_size_arcsec = 3.e8/start_frequency_hz_/base_length.max()*180/np.pi*3600\n",
    "print(base_length.max(), beam_size_arcsec)"
   ]
  },
  {
   "cell_type": "code",
   "execution_count": 105,
   "metadata": {},
   "outputs": [],
   "source": [
    "# Simulation starts \n",
    "sky = SkyModel()\n",
    "sky_data = np.array([sky_model_ra, sky_model_dec, flux,np.zeros(len(flux)), \\\n",
    "    np.zeros(len(flux)),np.zeros(len(flux)), np.zeros(len(flux)),np.zeros(len(flux)), \\\n",
    "np.zeros(len(flux)),np.zeros(len(flux)), np.zeros(len(flux)),np.zeros(len(flux))]).T\n",
    "sky_data=sky_data[0:16000,:]\n",
    "# Add Point Soure\n",
    "add_source = np.zeros((size_,12))\n",
    "if(point_source_bool):\n",
    "    add_source[0][0] = ra_sun_center # RA\n",
    "    add_source[0][1] = dec_sun_center # DEC\n",
    "    add_source[0][2] = point_flux # Flux\n",
    "    sky_data1 = np.vstack((sky_data,add_source))\n",
    "elif(random_points):\n",
    "    ra_point_array = np.random.uniform(low=ra_sun_center-0.3, high=ra_sun_center+0.3, size=size_)\n",
    "    dec_point_array = np.random.uniform(low=dec_sun_center-0.3, high=dec_sun_center+0.3, size=size_)\n",
    "    flux_array = np.random.uniform(low=1.e1, high=1.e2, size=size_)\n",
    "    add_source[:,0] = ra_point_array # RA\n",
    "    add_source[:,1] = dec_point_array # DEC\n",
    "    add_source[:,2] = flux_array # Flux  \n",
    "    sky_data1 = np.vstack((sky_data,add_source))\n",
    "else:\n",
    "    sky_data1 = sky_data\n",
    "sky.add_point_sources(sky_data1)\n",
    "np.savetxt(path+\"source_\"+telescope_name+\".txt\", add_source.T)\n",
    "#telescope_name=\"SKA1MID\"\n",
    "#telescope=Telescope.get_SKA1_LOW_Telescope()\n",
    "dtime=datetime(2000, 1, 1, 10, 0, 00, 0) # MeerKAT/ SKA-mid\n",
    "#dtime=datetime(2000, 1, 1, 4, 0, 00, 0) # MWA / SKA-low\n",
    "backend=SimulatorBackend.OSKAR\n",
    "#telescope = Telescope.constructor(telescope_name, backend=backend)\n",
    "telescope=Telescope.read_OSKAR_tm_file(telescope_path)\n",
    "telescope.read_OSKAR_tm_file(telescope_path)\n",
    "telescope.plot_telescope()\n",
    "plt.show()"
   ]
  },
  {
   "cell_type": "code",
   "execution_count": 106,
   "metadata": {},
   "outputs": [
    {
     "name": "stdout",
     "output_type": "stream",
     "text": [
      "Creating \u001b[94m\u001b[1m/tmp/karabo-STM-rohit-TRnaSBphUX/interferometer-9d47Z5nOTT\u001b[0m for interferometer disk-cache.\n"
     ]
    },
    {
     "ename": "KeyboardInterrupt",
     "evalue": "",
     "output_type": "error",
     "traceback": [
      "\u001b[0;31m---------------------------------------------------------------------------\u001b[0m",
      "\u001b[0;31mKeyboardInterrupt\u001b[0m                         Traceback (most recent call last)",
      "Cell \u001b[0;32mIn[106], line 12\u001b[0m\n\u001b[1;32m      1\u001b[0m simulation \u001b[38;5;241m=\u001b[39m InterferometerSimulation(vis_path\u001b[38;5;241m=\u001b[39mpath\u001b[38;5;241m+\u001b[39m\u001b[38;5;124m'\u001b[39m\u001b[38;5;124msolar_\u001b[39m\u001b[38;5;124m'\u001b[39m\u001b[38;5;241m+\u001b[39mtelescope_name\u001b[38;5;241m+\u001b[39m\u001b[38;5;124m'\u001b[39m\u001b[38;5;124m.vis\u001b[39m\u001b[38;5;124m'\u001b[39m, \n\u001b[1;32m      2\u001b[0m     channel_bandwidth_hz\u001b[38;5;241m=\u001b[39m\u001b[38;5;241m2e7\u001b[39m, time_average_sec\u001b[38;5;241m=\u001b[39m\u001b[38;5;241m1\u001b[39m, noise_enable\u001b[38;5;241m=\u001b[39mnoise_enable_, use_gpus\u001b[38;5;241m=\u001b[39m\u001b[38;5;28;01mTrue\u001b[39;00m,\n\u001b[1;32m      3\u001b[0m     noise_seed\u001b[38;5;241m=\u001b[39m\u001b[38;5;124m\"\u001b[39m\u001b[38;5;124mtime\u001b[39m\u001b[38;5;124m\"\u001b[39m, noise_freq\u001b[38;5;241m=\u001b[39m\u001b[38;5;124m\"\u001b[39m\u001b[38;5;124mRange\u001b[39m\u001b[38;5;124m\"\u001b[39m, noise_rms\u001b[38;5;241m=\u001b[39m\u001b[38;5;124m\"\u001b[39m\u001b[38;5;124mRange\u001b[39m\u001b[38;5;124m\"\u001b[39m, \n\u001b[1;32m      4\u001b[0m     noise_start_freq\u001b[38;5;241m=\u001b[39m\u001b[38;5;241m1.e9\u001b[39m, noise_inc_freq\u001b[38;5;241m=\u001b[39m\u001b[38;5;241m1.e8\u001b[39m, noise_number_freq\u001b[38;5;241m=\u001b[39m\u001b[38;5;241m24\u001b[39m, \n\u001b[1;32m      5\u001b[0m     noise_rms_start\u001b[38;5;241m=\u001b[39m\u001b[38;5;241m0\u001b[39m, noise_rms_end\u001b[38;5;241m=\u001b[39m\u001b[38;5;241m0\u001b[39m, enable_numerical_beam\u001b[38;5;241m=\u001b[39menable_array_beam,\n\u001b[1;32m      6\u001b[0m     enable_array_beam\u001b[38;5;241m=\u001b[39menable_array_beam) \n\u001b[1;32m      7\u001b[0m observation \u001b[38;5;241m=\u001b[39m Observation(mode\u001b[38;5;241m=\u001b[39m\u001b[38;5;124m'\u001b[39m\u001b[38;5;124mTracking\u001b[39m\u001b[38;5;124m'\u001b[39m,phase_centre_ra_deg\u001b[38;5;241m=\u001b[39mra_sun_center, start_date_and_time\u001b[38;5;241m=\u001b[39mdtime, \n\u001b[1;32m      8\u001b[0m     length\u001b[38;5;241m=\u001b[39mtimedelta(hours\u001b[38;5;241m=\u001b[39mhour_, minutes\u001b[38;5;241m=\u001b[39mminutes_, seconds\u001b[38;5;241m=\u001b[39m\u001b[38;5;241m0\u001b[39m, milliseconds\u001b[38;5;241m=\u001b[39m\u001b[38;5;241m0\u001b[39m), \n\u001b[1;32m      9\u001b[0m     phase_centre_dec_deg\u001b[38;5;241m=\u001b[39mdec_sun_center, number_of_time_steps\u001b[38;5;241m=\u001b[39m\u001b[38;5;241m100\u001b[39m, \n\u001b[1;32m     10\u001b[0m     start_frequency_hz\u001b[38;5;241m=\u001b[39mstart_frequency_hz_, frequency_increment_hz\u001b[38;5;241m=\u001b[39m\u001b[38;5;241m1e6\u001b[39m, \n\u001b[1;32m     11\u001b[0m     number_of_channels\u001b[38;5;241m=\u001b[39m\u001b[38;5;241m1\u001b[39m, ) \n\u001b[0;32m---> 12\u001b[0m visibility \u001b[38;5;241m=\u001b[39m \u001b[43msimulation\u001b[49m\u001b[38;5;241;43m.\u001b[39;49m\u001b[43mrun_simulation\u001b[49m\u001b[43m(\u001b[49m\u001b[43mtelescope\u001b[49m\u001b[43m,\u001b[49m\u001b[43m \u001b[49m\u001b[43msky\u001b[49m\u001b[43m,\u001b[49m\u001b[43m \u001b[49m\u001b[43mobservation\u001b[49m\u001b[43m,\u001b[49m\u001b[43m \u001b[49m\u001b[43mbackend\u001b[49m\u001b[38;5;241;43m=\u001b[39;49m\u001b[43mbackend\u001b[49m\u001b[43m)\u001b[49m\n\u001b[1;32m     13\u001b[0m visibility\u001b[38;5;241m.\u001b[39mwrite_to_file(path\u001b[38;5;241m+\u001b[39m\u001b[38;5;124m\"\u001b[39m\u001b[38;5;124msolar_\u001b[39m\u001b[38;5;124m\"\u001b[39m\u001b[38;5;241m+\u001b[39mtelescope_name\u001b[38;5;241m+\u001b[39m\u001b[38;5;124m\"\u001b[39m\u001b[38;5;124m.ms\u001b[39m\u001b[38;5;124m\"\u001b[39m) \n\u001b[1;32m     15\u001b[0m \u001b[38;5;66;03m# IMAGING \u001b[39;00m\n",
      "File \u001b[0;32m~/miniconda3/envs/karabo-dev-env/lib/python3.9/site-packages/karabo/simulation/interferometer.py:404\u001b[0m, in \u001b[0;36mInterferometerSimulation.run_simulation\u001b[0;34m(self, telescope, sky, observation, backend)\u001b[0m\n\u001b[1;32m    400\u001b[0m         \u001b[38;5;28;01mreturn\u001b[39;00m \u001b[38;5;28mself\u001b[39m\u001b[38;5;241m.\u001b[39m__run_simulation_parallized_observation(\n\u001b[1;32m    401\u001b[0m             telescope\u001b[38;5;241m=\u001b[39mtelescope, sky\u001b[38;5;241m=\u001b[39msky, observation\u001b[38;5;241m=\u001b[39mobservation\n\u001b[1;32m    402\u001b[0m         )\n\u001b[1;32m    403\u001b[0m     \u001b[38;5;28;01melse\u001b[39;00m:\n\u001b[0;32m--> 404\u001b[0m         \u001b[38;5;28;01mreturn\u001b[39;00m \u001b[38;5;28;43mself\u001b[39;49m\u001b[38;5;241;43m.\u001b[39;49m\u001b[43m__setup_run_simulation_oskar\u001b[49m\u001b[43m(\u001b[49m\n\u001b[1;32m    405\u001b[0m \u001b[43m            \u001b[49m\u001b[43mtelescope\u001b[49m\u001b[38;5;241;43m=\u001b[39;49m\u001b[43mtelescope\u001b[49m\u001b[43m,\u001b[49m\u001b[43m \u001b[49m\u001b[43msky\u001b[49m\u001b[38;5;241;43m=\u001b[39;49m\u001b[43msky\u001b[49m\u001b[43m,\u001b[49m\u001b[43m \u001b[49m\u001b[43mobservation\u001b[49m\u001b[38;5;241;43m=\u001b[39;49m\u001b[43mobservation\u001b[49m\n\u001b[1;32m    406\u001b[0m \u001b[43m        \u001b[49m\u001b[43m)\u001b[49m\n\u001b[1;32m    407\u001b[0m \u001b[38;5;28;01melif\u001b[39;00m backend \u001b[38;5;129;01mis\u001b[39;00m SimulatorBackend\u001b[38;5;241m.\u001b[39mRASCIL:\n\u001b[1;32m    408\u001b[0m     \u001b[38;5;28;01mreturn\u001b[39;00m \u001b[38;5;28mself\u001b[39m\u001b[38;5;241m.\u001b[39m__run_simulation_rascil(\n\u001b[1;32m    409\u001b[0m         telescope\u001b[38;5;241m=\u001b[39mtelescope, sky\u001b[38;5;241m=\u001b[39msky, observation\u001b[38;5;241m=\u001b[39mobservation\n\u001b[1;32m    410\u001b[0m     )\n",
      "File \u001b[0;32m~/miniconda3/envs/karabo-dev-env/lib/python3.9/site-packages/karabo/simulation/interferometer.py:620\u001b[0m, in \u001b[0;36mInterferometerSimulation.__setup_run_simulation_oskar\u001b[0;34m(self, telescope, sky, observation)\u001b[0m\n\u001b[1;32m    617\u001b[0m observation_params \u001b[38;5;241m=\u001b[39m observation\u001b[38;5;241m.\u001b[39mget_OSKAR_settings_tree()\n\u001b[1;32m    619\u001b[0m params_total \u001b[38;5;241m=\u001b[39m {\u001b[38;5;241m*\u001b[39m\u001b[38;5;241m*\u001b[39minterferometer_params, \u001b[38;5;241m*\u001b[39m\u001b[38;5;241m*\u001b[39mobservation_params}\n\u001b[0;32m--> 620\u001b[0m params_total \u001b[38;5;241m=\u001b[39m \u001b[43mInterferometerSimulation\u001b[49m\u001b[38;5;241;43m.\u001b[39;49m\u001b[43m__run_simulation_oskar\u001b[49m\u001b[43m(\u001b[49m\n\u001b[1;32m    621\u001b[0m \u001b[43m    \u001b[49m\u001b[43marray_sky\u001b[49m\u001b[43m,\u001b[49m\u001b[43m \u001b[49m\u001b[43mparams_total\u001b[49m\u001b[43m,\u001b[49m\u001b[43m \u001b[49m\u001b[38;5;28;43mself\u001b[39;49m\u001b[38;5;241;43m.\u001b[39;49m\u001b[43mprecision\u001b[49m\n\u001b[1;32m    622\u001b[0m \u001b[43m\u001b[49m\u001b[43m)\u001b[49m\n\u001b[1;32m    623\u001b[0m ms_file_path \u001b[38;5;241m=\u001b[39m params_total[\u001b[38;5;124m\"\u001b[39m\u001b[38;5;124minterferometer\u001b[39m\u001b[38;5;124m\"\u001b[39m][\u001b[38;5;124m\"\u001b[39m\u001b[38;5;124mms_filename\u001b[39m\u001b[38;5;124m\"\u001b[39m]\n\u001b[1;32m    624\u001b[0m vis_path \u001b[38;5;241m=\u001b[39m params_total[\u001b[38;5;124m\"\u001b[39m\u001b[38;5;124minterferometer\u001b[39m\u001b[38;5;124m\"\u001b[39m][\u001b[38;5;124m\"\u001b[39m\u001b[38;5;124moskar_vis_filename\u001b[39m\u001b[38;5;124m\"\u001b[39m]\n",
      "File \u001b[0;32m~/miniconda3/envs/karabo-dev-env/lib/python3.9/site-packages/karabo/simulation/interferometer.py:655\u001b[0m, in \u001b[0;36mInterferometerSimulation.__run_simulation_oskar\u001b[0;34m(os_sky, params_total, precision)\u001b[0m\n\u001b[1;32m    653\u001b[0m simulation \u001b[38;5;241m=\u001b[39m oskar\u001b[38;5;241m.\u001b[39mInterferometer(settings\u001b[38;5;241m=\u001b[39msetting_tree)\n\u001b[1;32m    654\u001b[0m simulation\u001b[38;5;241m.\u001b[39mset_sky_model(os_sky)\n\u001b[0;32m--> 655\u001b[0m \u001b[43msimulation\u001b[49m\u001b[38;5;241;43m.\u001b[39;49m\u001b[43mrun\u001b[49m\u001b[43m(\u001b[49m\u001b[43m)\u001b[49m\n\u001b[1;32m    657\u001b[0m \u001b[38;5;66;03m# Return the params, which contain all the information about the simulation\u001b[39;00m\n\u001b[1;32m    658\u001b[0m \u001b[38;5;28;01mreturn\u001b[39;00m params_total\n",
      "File \u001b[0;32m~/miniconda3/envs/karabo-dev-env/lib/python3.9/site-packages/oskar/interferometer.py:300\u001b[0m, in \u001b[0;36mInterferometer.run\u001b[0;34m(self)\u001b[0m\n\u001b[1;32m    298\u001b[0m     t\u001b[38;5;241m.\u001b[39mstart()\n\u001b[1;32m    299\u001b[0m \u001b[38;5;28;01mfor\u001b[39;00m t \u001b[38;5;129;01min\u001b[39;00m threads:\n\u001b[0;32m--> 300\u001b[0m     \u001b[43mt\u001b[49m\u001b[38;5;241;43m.\u001b[39;49m\u001b[43mjoin\u001b[49m\u001b[43m(\u001b[49m\u001b[43m)\u001b[49m\n\u001b[1;32m    301\u001b[0m \u001b[38;5;28;01mreturn\u001b[39;00m \u001b[38;5;28mself\u001b[39m\u001b[38;5;241m.\u001b[39mfinalise()\n",
      "File \u001b[0;32m~/miniconda3/envs/karabo-dev-env/lib/python3.9/threading.py:1060\u001b[0m, in \u001b[0;36mThread.join\u001b[0;34m(self, timeout)\u001b[0m\n\u001b[1;32m   1057\u001b[0m     \u001b[38;5;28;01mraise\u001b[39;00m \u001b[38;5;167;01mRuntimeError\u001b[39;00m(\u001b[38;5;124m\"\u001b[39m\u001b[38;5;124mcannot join current thread\u001b[39m\u001b[38;5;124m\"\u001b[39m)\n\u001b[1;32m   1059\u001b[0m \u001b[38;5;28;01mif\u001b[39;00m timeout \u001b[38;5;129;01mis\u001b[39;00m \u001b[38;5;28;01mNone\u001b[39;00m:\n\u001b[0;32m-> 1060\u001b[0m     \u001b[38;5;28;43mself\u001b[39;49m\u001b[38;5;241;43m.\u001b[39;49m\u001b[43m_wait_for_tstate_lock\u001b[49m\u001b[43m(\u001b[49m\u001b[43m)\u001b[49m\n\u001b[1;32m   1061\u001b[0m \u001b[38;5;28;01melse\u001b[39;00m:\n\u001b[1;32m   1062\u001b[0m     \u001b[38;5;66;03m# the behavior of a negative timeout isn't documented, but\u001b[39;00m\n\u001b[1;32m   1063\u001b[0m     \u001b[38;5;66;03m# historically .join(timeout=x) for x<0 has acted as if timeout=0\u001b[39;00m\n\u001b[1;32m   1064\u001b[0m     \u001b[38;5;28mself\u001b[39m\u001b[38;5;241m.\u001b[39m_wait_for_tstate_lock(timeout\u001b[38;5;241m=\u001b[39m\u001b[38;5;28mmax\u001b[39m(timeout, \u001b[38;5;241m0\u001b[39m))\n",
      "File \u001b[0;32m~/miniconda3/envs/karabo-dev-env/lib/python3.9/threading.py:1080\u001b[0m, in \u001b[0;36mThread._wait_for_tstate_lock\u001b[0;34m(self, block, timeout)\u001b[0m\n\u001b[1;32m   1077\u001b[0m     \u001b[38;5;28;01mreturn\u001b[39;00m\n\u001b[1;32m   1079\u001b[0m \u001b[38;5;28;01mtry\u001b[39;00m:\n\u001b[0;32m-> 1080\u001b[0m     \u001b[38;5;28;01mif\u001b[39;00m \u001b[43mlock\u001b[49m\u001b[38;5;241;43m.\u001b[39;49m\u001b[43macquire\u001b[49m\u001b[43m(\u001b[49m\u001b[43mblock\u001b[49m\u001b[43m,\u001b[49m\u001b[43m \u001b[49m\u001b[43mtimeout\u001b[49m\u001b[43m)\u001b[49m:\n\u001b[1;32m   1081\u001b[0m         lock\u001b[38;5;241m.\u001b[39mrelease()\n\u001b[1;32m   1082\u001b[0m         \u001b[38;5;28mself\u001b[39m\u001b[38;5;241m.\u001b[39m_stop()\n",
      "\u001b[0;31mKeyboardInterrupt\u001b[0m: "
     ]
    }
   ],
   "source": [
    "\n",
    "simulation = InterferometerSimulation(vis_path=path+'solar_'+telescope_name+'.vis', \n",
    "    channel_bandwidth_hz=2e7, time_average_sec=1, noise_enable=noise_enable_, use_gpus=True,\n",
    "    noise_seed=\"time\", noise_freq=\"Range\", noise_rms=\"Range\", \n",
    "    noise_start_freq=1.e9, noise_inc_freq=1.e8, noise_number_freq=24, \n",
    "    noise_rms_start=0, noise_rms_end=0, enable_numerical_beam=enable_array_beam,\n",
    "    enable_array_beam=enable_array_beam) \n",
    "observation = Observation(mode='Tracking',phase_centre_ra_deg=ra_sun_center, start_date_and_time=dtime, \n",
    "    length=timedelta(hours=hour_, minutes=minutes_, seconds=0, milliseconds=0), \n",
    "    phase_centre_dec_deg=dec_sun_center, number_of_time_steps=100, \n",
    "    start_frequency_hz=start_frequency_hz_, frequency_increment_hz=1e6, \n",
    "    number_of_channels=1, ) \n",
    "visibility = simulation.run_simulation(telescope, sky, observation, backend=backend)\n",
    "visibility.write_to_file(path+\"solar_\"+telescope_name+\".ms\") \n",
    "\n",
    "# IMAGING \n",
    "cellsize_rad=3.878509448876288e-05 # in rad\n",
    "cellsize_arcsec=cellsize_rad*180/np.pi*3600\n",
    "print(cellsize_arcsec)\n",
    "dirty_imager = OskarDirtyImager(\n",
    "    OskarDirtyImagerConfig(\n",
    "        imaging_npixel=2048,\n",
    "        imaging_cellsize=cellsize_rad,\n",
    "    ))\n",
    "dirty_image = dirty_imager.create_dirty_image(visibility,output_fits_path=path+\"solar_\"+telescope_name+\".fits\") \n",
    "npix_per_beam = beam_size_arcsec/cellsize_arcsec\n",
    "print(npix_per_beam,beam_size_arcsec,cellsize_arcsec,base_length.max())"
   ]
  },
  {
   "cell_type": "code",
   "execution_count": null,
   "metadata": {},
   "outputs": [],
   "source": [
    "from mpl_toolkits.axes_grid1 import make_axes_locatable\n",
    "\n",
    "d,h=fits.getdata(path+\"solar_\"+telescope_name+\".fits\",header=True)\n",
    "l1 = h['CRVAL1'] + h['CDELT1']*1024\n",
    "l2 = h['CRVAL1'] - h['CDELT1']*1024\n",
    "r1 = h['CRVAL2'] + h['CDELT2']*1024\n",
    "r2 = h['CRVAL2'] - h['CDELT2']*1024\n",
    "d=d[:,:,::-1,::-1]\n",
    "\n",
    "f,((ax0,ax1),(ax2,ax3))=plt.subplots(2,2)\n",
    "im0=ax0.imshow(solar_map_jy/1.e4,origin='lower', extent=[ra_grid[0][0],ra_grid[0][-1],dec_grid[:,0][0],dec_grid[:,0][-1]])\n",
    "divider = make_axes_locatable(ax0)\n",
    "cax = divider.append_axes('right', size='5%', pad=0.05)\n",
    "f.colorbar(im0, cax=cax, orientation='vertical',label = 'SFU')\n",
    "im1=ax1.imshow(d[0][0]/(np.pi*npix_per_beam**2)/1.e4,origin='lower', extent = [l1,l2,r1,r2])\n",
    "ax1.set_xlim(ra_grid[0][0],ra_grid[0][-1])\n",
    "ax1.set_ylim(dec_grid[:,0][0],dec_grid[:,0][-1])\n",
    "divider = make_axes_locatable(ax1)\n",
    "cax = divider.append_axes('right', size='5%', pad=0.05)\n",
    "f.colorbar(im1, cax=cax, orientation='vertical',label = 'SFU')\n",
    "#ax2.plot(ra_point_array,dec_point_array,'o',color='k')\n",
    "c1 = plt.Circle( ( ra_sun_center, dec_sun_center ), 0.25, color='red',fill = None )\n",
    "ax2.add_patch(c1)\n",
    "ax3.imshow(solar_map_jy,origin='lower', extent=[ra_grid[0][0],ra_grid[0][-1],dec_grid[:,0][0],dec_grid[:,0][-1]])\n",
    "#ax3.plot(ra_point_array,dec_point_array,'o',color='k')\n",
    "ax0.set_xlabel('R.A. (Deg)');ax1.set_xlabel('R.A. (Deg)');ax2.set_xlabel('R.A. (Deg)');ax3.set_xlabel('R.A. (Deg)')\n",
    "ax0.set_ylabel('DEC (deg)');ax1.set_ylabel('DEC (deg)');ax2.set_ylabel('DEC (deg)');ax3.set_ylabel('DEC (deg)')\n",
    "plt.show()"
   ]
  },
  {
   "cell_type": "code",
   "execution_count": null,
   "metadata": {},
   "outputs": [],
   "source": [
    "#telescope.plot_telescope()\n",
    "#plt.show()"
   ]
  },
  {
   "cell_type": "code",
   "execution_count": null,
   "metadata": {},
   "outputs": [
    {
     "name": "stdout",
     "output_type": "stream",
     "text": [
      "0.0982856464058907\n"
     ]
    }
   ],
   "source": [
    "print(npix_per_beam)"
   ]
  },
  {
   "cell_type": "code",
   "execution_count": null,
   "metadata": {},
   "outputs": [],
   "source": []
  }
 ],
 "metadata": {
  "kernelspec": {
   "display_name": "karabo-dev-env",
   "language": "python",
   "name": "python3"
  },
  "language_info": {
   "codemirror_mode": {
    "name": "ipython",
    "version": 3
   },
   "file_extension": ".py",
   "mimetype": "text/x-python",
   "name": "python",
   "nbconvert_exporter": "python",
   "pygments_lexer": "ipython3",
   "version": "3.9.19"
  }
 },
 "nbformat": 4,
 "nbformat_minor": 2
}
