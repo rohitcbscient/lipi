{
 "cells": [
  {
   "cell_type": "code",
   "execution_count": 2,
   "metadata": {},
   "outputs": [],
   "source": [
    "import numpy as np\n",
    "from astropy.io import fits\n",
    "from datetime import datetime, timedelta\n",
    "import matplotlib.pyplot as plt\n",
    "import matplotlib as mpl\n",
    "mpl.use('Tkagg')"
   ]
  },
  {
   "cell_type": "code",
   "execution_count": 3,
   "metadata": {},
   "outputs": [
    {
     "ename": "KeyboardInterrupt",
     "evalue": "",
     "output_type": "error",
     "traceback": [
      "\u001b[0;31m---------------------------------------------------------------------------\u001b[0m",
      "\u001b[0;31mKeyboardInterrupt\u001b[0m                         Traceback (most recent call last)",
      "Cell \u001b[0;32mIn[3], line 67\u001b[0m\n\u001b[1;32m     65\u001b[0m Tbarray_meerkat_long \u001b[38;5;241m=\u001b[39m np\u001b[38;5;241m.\u001b[39marray(Tbarray_meerkat_long)\n\u001b[1;32m     66\u001b[0m Tbarray_skalow_snap \u001b[38;5;241m=\u001b[39m np\u001b[38;5;241m.\u001b[39marray(Tbarray_skalow_snap)\n\u001b[0;32m---> 67\u001b[0m Tbarray_skalow_long \u001b[38;5;241m=\u001b[39m \u001b[43mnp\u001b[49m\u001b[38;5;241;43m.\u001b[39;49m\u001b[43marray\u001b[49m\u001b[43m(\u001b[49m\u001b[43mTbarray_skalow_long\u001b[49m\u001b[43m)\u001b[49m\n\u001b[1;32m     68\u001b[0m Tbarray_skamid_snap \u001b[38;5;241m=\u001b[39m np\u001b[38;5;241m.\u001b[39marray(Tbarray_skamid_snap)\n\u001b[1;32m     69\u001b[0m Tbarray_skamid_long \u001b[38;5;241m=\u001b[39m np\u001b[38;5;241m.\u001b[39marray(Tbarray_skamid_long)\n",
      "\u001b[0;31mKeyboardInterrupt\u001b[0m: "
     ]
    }
   ],
   "source": [
    "obs = ['snap','long']\n",
    "path = '/media/rohit/sdata/ska-solar-files/sim/'\n",
    "aa=fits.open(path+'20151203_240MHz_psimas.fits')\n",
    "freq_array = np.array([50,100,200,300,500,1000,1500,2000])\n",
    "solar_model = [0]* 8\n",
    "solar_map=aa[0].data\n",
    "for i in range(8):\n",
    "    solar_model[i]=solar_map/np.nanmax(solar_map)*20*1.e4*(freq_array[i]*1.e6/2.4e8)**2\n",
    "solar_model = np.array(solar_model)\n",
    "npix_per_beam_mwa = 27\n",
    "npix_per_beam_meerkat = 2\n",
    "npix_per_beam_skalow = 2\n",
    "npix_per_beam_skamid = 4\n",
    "\n",
    "do_Tbarray_loop = 0\n",
    "if(do_Tbarray_loop):\n",
    "    Tbarray_mwa_snap = [0]*3\n",
    "    Tbarray_mwa_long = [0]*3\n",
    "    Tbarray_meerkat_snap = [0]*3\n",
    "    Tbarray_meerkat_long = [0]*3\n",
    "    Tbarray_skalow_snap = [0]*3\n",
    "    Tbarray_skalow_long = [0]*3\n",
    "    Tbarray_skamid_snap = [0]*3\n",
    "    Tbarray_skamid_long = [0]*3\n",
    "    for m in range(3): # No Source / Point Source / Point Array\n",
    "        Tbarray_mwa_snap[m] = [0]*4\n",
    "        Tbarray_mwa_long[m] = [0]*4\n",
    "        Tbarray_meerkat_snap[m] = [0]*4\n",
    "        Tbarray_meerkat_long[m] = [0]*4\n",
    "        Tbarray_skalow_snap[m] = [0]*4\n",
    "        Tbarray_skalow_long[m] = [0]*4\n",
    "        Tbarray_skamid_snap[m] = [0]*4\n",
    "        Tbarray_skamid_long[m] = [0]*4\n",
    "        for f in range(4):\n",
    "            fname_mwa_snap = path+'solar_mwa_snap'+str(m)+'_'+str(freq_array[f])+'MHz.fits'\n",
    "            d,h=fits.getdata(fname_mwa_snap,header=True)\n",
    "            Tbarray_mwa_snap[m][f] = d[0][0]/(np.pi*npix_per_beam_mwa**2)/1.e4\n",
    "            fname_mwa_long = path+'solar_mwa_long'+str(m)+'_'+str(freq_array[f])+'MHz.fits'\n",
    "            d,h=fits.getdata(fname_mwa_long,header=True)\n",
    "            Tbarray_mwa_long[m][f] = d[0][0]/(np.pi*npix_per_beam_mwa**2)/1.e4\n",
    "            fname_skalow_snap = path+'solar_skalow_snap'+str(m)+'_'+str(freq_array[f])+'MHz.fits'\n",
    "            d,h=fits.getdata(fname_skalow_snap,header=True)\n",
    "            Tbarray_skalow_snap[m][f] = d[0][0]/(np.pi*npix_per_beam_skalow**2)/1.e4\n",
    "            fname_skalow_long = path+'solar_skalow_long'+str(m)+'_'+str(freq_array[f])+'MHz.fits'        \n",
    "            d,h=fits.getdata(fname_skalow_long,header=True)\n",
    "            Tbarray_skalow_long[m][f] = d[0][0]/(np.pi*npix_per_beam_skalow**2)/1.e4\n",
    "\n",
    "        for f in range(4):\n",
    "            fname_meerkat_snap = path+'solar_meerkat_snap'+str(m)+'_'+str(freq_array[4+f])+'MHz.fits'\n",
    "            fname_meerkat_long = path+'solar_meerkat_long'+str(m)+'_'+str(freq_array[4+f])+'MHz.fits'\n",
    "            fname_skamid_snap = path+'solar_skamid_snap'+str(m)+'_'+str(freq_array[4+f])+'MHz.fits'\n",
    "            fname_skamid_long = path+'solar_skamid_long'+str(m)+'_'+str(freq_array[4+f])+'MHz.fits'\n",
    "            d,h=fits.getdata(fname_meerkat_snap,header=True)\n",
    "            Tbarray_meerkat_snap[m][f] = d[0][0]/(np.pi*npix_per_beam_meerkat**2)/1.e4\n",
    "            d,h=fits.getdata(fname_meerkat_long,header=True)\n",
    "            Tbarray_meerkat_long[m][f] = d[0][0]/(np.pi*npix_per_beam_meerkat**2)/1.e4\n",
    "            d,h=fits.getdata(fname_skamid_snap,header=True)\n",
    "            Tbarray_skamid_snap[m][f] = d[0][0]/(np.pi*npix_per_beam_skamid**2)/1.e4        \n",
    "            d,h=fits.getdata(fname_skamid_long,header=True)\n",
    "            Tbarray_skamid_long[m][f] = d[0][0]/(np.pi*npix_per_beam_skamid**2)/1.e4\n",
    "\n",
    "Tbarray_mwa_snap = np.array(Tbarray_mwa_snap)\n",
    "Tbarray_mwa_long = np.array(Tbarray_mwa_long)\n",
    "Tbarray_meerkat_snap = np.array(Tbarray_meerkat_snap)\n",
    "Tbarray_meerkat_long = np.array(Tbarray_meerkat_long)\n",
    "Tbarray_skalow_snap = np.array(Tbarray_skalow_snap)\n",
    "Tbarray_skalow_long = np.array(Tbarray_skalow_long)\n",
    "Tbarray_skamid_snap = np.array(Tbarray_skamid_snap)\n",
    "Tbarray_skamid_long = np.array(Tbarray_skamid_long)\n",
    "Tbarray_skamid_long.shape\n",
    "\n",
    "print('Writing...')\n",
    "Tbsnap = np.array((Tbarray_mwa_snap,Tbarray_skalow_snap,Tbarray_meerkat_snap,Tbarray_skamid_snap))\n",
    "Tblong = np.array((Tbarray_mwa_long,Tbarray_skalow_long,Tbarray_meerkat_long,Tbarray_skamid_long))\n",
    "print(Tbsnap.shape)\n",
    "np.save(path+'TB_SNAP.p',Tbsnap)\n",
    "np.save(path+'TB_LONG.p',Tblong)\n"
   ]
  },
  {
   "cell_type": "code",
   "execution_count": 4,
   "metadata": {},
   "outputs": [
    {
     "name": "stdout",
     "output_type": "stream",
     "text": [
      "(4, 3, 4)\n"
     ]
    }
   ],
   "source": [
    "\n",
    "# mwa,skalow,meerkat,skamid / three point source / frequency\n",
    "Tbarray_snap = np.load(path+'TB_SNAP.p.npy',allow_pickle=True)\n",
    "Tbarray_long = np.load(path+'TB_LONG.p.npy',allow_pickle=True)\n",
    "flux_max_snap = np.max(Tbarray_snap,axis=(3,4))\n",
    "flux_max_long = np.max(Tbarray_long,axis=(3,4))\n",
    "\n",
    "off_disk_std_snap = np.std(Tbarray_snap[:,:,:,0:500,:],axis=(3,4))\n",
    "off_disk_std_long = np.std(Tbarray_long[:,:,:,0:500,:],axis=(3,4))\n",
    "on_disk_std_snap = np.std(Tbarray_snap[:,:,:,900:1200,:],axis=(3,4))\n",
    "on_disk_std_long = np.std(Tbarray_long[:,:,:,900:1200,:],axis=(3,4))\n",
    "\n",
    "DR_off_snap = flux_max_snap/off_disk_std_snap\n",
    "DR_off_long = flux_max_long/off_disk_std_long\n",
    "DR_on_snap = flux_max_snap/on_disk_std_snap\n",
    "DR_on_long = flux_max_long/on_disk_std_long\n",
    "print(off_disk_std_long.shape)"
   ]
  },
  {
   "cell_type": "code",
   "execution_count": 4,
   "metadata": {},
   "outputs": [],
   "source": [
    "f,(ax0) = plt.subplots(1,1)\n",
    "ax0.plot(freq_array[0:4] , off_disk_std_snap[0,0], color='r', linestyle='-', label ='Off-disk / No Source')\n",
    "ax0.plot(freq_array[0:4] , off_disk_std_snap[0,1], color='g', linestyle='-', label ='Off-disk / Point Source')\n",
    "ax0.plot(freq_array[0:4] , off_disk_std_snap[0,2], color='b', linestyle='-', label ='Off-disk / 100 Sources')\n",
    "#ax0.plot(freq_array[0:4] , on_disk_std_snap[0,0], color='r', linestyle='--', label ='On-disk / No Source')\n",
    "#ax0.plot(freq_array[0:4] , on_disk_std_snap[0,1], color='g', linestyle='--', label ='On-disk / Point Source')\n",
    "#ax0.plot(freq_array[0:4] , on_disk_std_snap[0,2], color='b', linestyle='--', label ='On-disk / 100 Sources')\n",
    "ax0.legend()\n",
    "plt.show()\n"
   ]
  },
  {
   "cell_type": "code",
   "execution_count": 5,
   "metadata": {},
   "outputs": [],
   "source": [
    "f,(ax0) = plt.subplots(1,1)\n",
    "ax0.plot(freq_array[0:4] , off_disk_std_snap[0,0], color='r', linestyle='-', label ='Off-disk / MWA')\n",
    "ax0.plot(freq_array[0:4] , off_disk_std_snap[1,0], color='g', linestyle='-', label ='Off-disk / SKA-low')\n",
    "ax0.legend()\n",
    "plt.show()\n",
    "\n",
    "f,(ax0) = plt.subplots(1,1)\n",
    "ax0.plot(freq_array[0:4] , flux_max_snap[0,0], color='r', linestyle='-', label ='Off-disk / MWA')\n",
    "ax0.plot(freq_array[0:4] , flux_max_snap[1,0], color='g', linestyle='-', label ='Off-disk / SKA-low')\n",
    "ax0.legend()\n",
    "plt.show()"
   ]
  },
  {
   "cell_type": "code",
   "execution_count": 6,
   "metadata": {},
   "outputs": [
    {
     "name": "stderr",
     "output_type": "stream",
     "text": [
      "invalid command name \"128297255273600process_stream_events\"\n",
      "    while executing\n",
      "\"128297255273600process_stream_events\"\n",
      "    (\"after\" script)\n",
      "can't invoke \"event\" command: application has been destroyed\n",
      "    while executing\n",
      "\"event generate $w <<ThemeChanged>>\"\n",
      "    (procedure \"ttk::ThemeChanged\" line 6)\n",
      "    invoked from within\n",
      "\"ttk::ThemeChanged\"\n"
     ]
    }
   ],
   "source": [
    "f,ax0 = plt.subplots(1,1)\n",
    "ax0.plot(freq_array[0:4] , DR_off_long[0,0], color='r', linestyle='-', label ='Off-disk DR (MWA)')\n",
    "ax0.plot(freq_array[0:4] , DR_off_long[1,0], color='g', linestyle='-', label ='Off-disk DR (SKA-low)')\n",
    "ax0.set_title('MWA')\n",
    "ax0.legend()\n",
    "ax0.set_ylabel('Flux density (SFU)')\n",
    "ax0.set_xlabel('Frequency (MHz)')\n",
    "ax0.set_yscale('log')\n",
    "plt.show()"
   ]
  },
  {
   "cell_type": "code",
   "execution_count": 7,
   "metadata": {},
   "outputs": [
    {
     "name": "stderr",
     "output_type": "stream",
     "text": [
      "invalid command name \"128294995096576process_stream_events\"\n",
      "    while executing\n",
      "\"128294995096576process_stream_events\"\n",
      "    (\"after\" script)\n",
      "can't invoke \"event\" command: application has been destroyed\n",
      "    while executing\n",
      "\"event generate $w <<ThemeChanged>>\"\n",
      "    (procedure \"ttk::ThemeChanged\" line 6)\n",
      "    invoked from within\n",
      "\"ttk::ThemeChanged\"\n"
     ]
    }
   ],
   "source": [
    "\n",
    "f,ax0 = plt.subplots(1,1)\n",
    "ax0.plot(freq_array[4:] , DR_off_snap[3,0], color='r', linestyle='-', label ='Off-disk DR (snap)')\n",
    "ax0.plot(freq_array[4:] , DR_off_long[3,0], color='b', linestyle='-', label ='Off-disk DR (long)')\n",
    "ax0.plot(freq_array[4:] , DR_on_snap[3,0], color='r', linestyle='--', label ='On-disk DR (snap)')\n",
    "ax0.plot(freq_array[4:] , DR_on_long[3,0], color='b', linestyle='--', label ='On-disk DR (long)')\n",
    "ax0.set_title('SKA-mid')\n",
    "ax0.legend()\n",
    "ax0.set_ylabel('Flux density (SFU)')\n",
    "ax0.set_xlabel('Frequency (MHz)')\n",
    "ax0.set_yscale('log')\n",
    "ax0.set_ylim([1.e0,1.e3])\n",
    "plt.show()"
   ]
  },
  {
   "cell_type": "code",
   "execution_count": 6,
   "metadata": {},
   "outputs": [],
   "source": [
    "\n",
    "f,ax0 = plt.subplots(1,1)\n",
    "ax0.plot(freq_array[0:4] , flux_max_snap[0][0],'o-',label = 'No Point Source')\n",
    "ax0.plot(freq_array[0:4] , flux_max_snap[0][1],'o-',label = 'Point Source')\n",
    "ax0.plot(freq_array[0:4] , flux_max_snap[0][2],'o-',label = '100 Sources')\n",
    "ax0.set_xlabel('Freqeuncy (MHz)')\n",
    "ax0.legend()\n",
    "plt.show()"
   ]
  },
  {
   "cell_type": "code",
   "execution_count": 12,
   "metadata": {},
   "outputs": [],
   "source": [
    "from mpl_toolkits.axes_grid1 import make_axes_locatable\n",
    "ra_sun_center=249.141666667;dec_sun_center=21.986 #16 34 34.52 -21 59 09.7\n",
    "ra_grid_model,dec_grid_model=np.meshgrid((np.arange(256)-128)*22.5/3600.,(np.arange(256)-128)*22.5/3600.)\n",
    "ra_grid_model=ra_grid_model+ra_sun_center;dec_grid_model=dec_grid_model+dec_sun_center\n",
    "d,h=fits.getdata(path+\"solar_mwa_long0_50MHz.fits\",header=True)\n",
    "l1 = h['CRVAL1'] + h['CDELT1']*1024\n",
    "l2 = h['CRVAL1'] - h['CDELT1']*1024\n",
    "r1 = h['CRVAL2'] + h['CDELT2']*1024\n",
    "r2 = h['CRVAL2'] - h['CDELT2']*1024\n",
    "d=d[:,:,::-1,::-1]\n",
    "\n",
    "ra_grid,dec_grid=np.meshgrid((np.arange(2048)-1024)*0.00222,(np.arange(2048)-1024)*0.00222)\n",
    "ra_grid=ra_grid+ra_sun_center;dec_grid=dec_grid+dec_sun_center"
   ]
  },
  {
   "cell_type": "code",
   "execution_count": 8,
   "metadata": {},
   "outputs": [],
   "source": [
    "f,ax0 = plt.subplots(1,1)\n",
    "im0=ax0.imshow(solar_model[4]/1.e4,origin='lower',cmap='YlGnBu', extent=[ra_grid_model[0][0],ra_grid_model[0][-1],dec_grid_model[:,0][0],dec_grid_model[:,0][-1]])\n",
    "divider = make_axes_locatable(ax0)\n",
    "cax = divider.append_axes('right', size='5%', pad=0.05)\n",
    "f.colorbar(im0, cax=cax, orientation='vertical',label = 'SFU')\n",
    "ax0.set_xlabel('R.A. (Deg)')\n",
    "ax0.set_ylabel('DEC (deg)')\n",
    "plt.show()"
   ]
  },
  {
   "cell_type": "code",
   "execution_count": 11,
   "metadata": {},
   "outputs": [
    {
     "name": "stderr",
     "output_type": "stream",
     "text": [
      "invalid command name \"128294992891328process_stream_events\"\n",
      "    while executing\n",
      "\"128294992891328process_stream_events\"\n",
      "    (\"after\" script)\n",
      "can't invoke \"event\" command: application has been destroyed\n",
      "    while executing\n",
      "\"event generate $w <<ThemeChanged>>\"\n",
      "    (procedure \"ttk::ThemeChanged\" line 6)\n",
      "    invoked from within\n",
      "\"ttk::ThemeChanged\"\n"
     ]
    }
   ],
   "source": [
    "# mwa,skalow,meerkat,skamid / three point source / frequency\n",
    "telescope_name = ['MWA','SKA-low','Meerkat','SKA-mid']\n",
    "\n",
    "for i in range(4):\n",
    "    for j in range(3):\n",
    "        for k in range(4):\n",
    "            yy=Tbarray_long[i][j][k][:,::-1]\n",
    "            f,ax1 = plt.subplots(1,1)\n",
    "            im1=ax1.imshow(yy,cmap='YlGnBu',origin='lower',extent=[ra_grid[0][0],ra_grid[0][-1],dec_grid[:,0][0],dec_grid[:,0][-1]])\n",
    "            ax1.set_xlim(ra_grid[0][0],ra_grid[0][-1])\n",
    "            ax1.set_ylim(dec_grid[:,0][0],dec_grid[:,0][-1])\n",
    "            divider = make_axes_locatable(ax1)\n",
    "            cax = divider.append_axes('right', size='5%', pad=0.05)\n",
    "            f.colorbar(im1, cax=cax, orientation='vertical',label = 'SFU')\n",
    "            ax1.set_xlabel('R.A. (Deg)')\n",
    "            ax1.set_ylabel('DEC (deg)')\n",
    "            if i==2 or i==3:\n",
    "                freq_str=str(freq_array[k+4])\n",
    "                ax1.set_title(str(telescope_name[i])+'| LONG |'+str(freq_array[k+4])+'MHz')\n",
    "            else:\n",
    "                freq_str=str(freq_array[k])\n",
    "                ax1.set_title(str(telescope_name[i])+'| LONG |'+str(freq_array[k])+'MHz')\n",
    "            f.savefig(path+'fig/'+telescope_name[i]+'-LONG-'+freq_str+'MHz'+'_'+str(j)+'.png',dpi=100)\n",
    "            plt.close()\n",
    "            #--------------------------------------------------------\n",
    "            yy=Tbarray_long[i][j][k][:,::-1]-Tbarray_long[i][0][k][:,::-1]\n",
    "            f,ax1 = plt.subplots(1,1)\n",
    "            im1=ax1.imshow(yy,cmap='YlGnBu',origin='lower',extent=[ra_grid[0][0],ra_grid[0][-1],dec_grid[:,0][0],dec_grid[:,0][-1]])\n",
    "            ax1.set_xlim(ra_grid[0][0],ra_grid[0][-1])\n",
    "            ax1.set_ylim(dec_grid[:,0][0],dec_grid[:,0][-1])\n",
    "            divider = make_axes_locatable(ax1)\n",
    "            cax = divider.append_axes('right', size='5%', pad=0.05)\n",
    "            f.colorbar(im1, cax=cax, orientation='vertical',label = 'SFU')\n",
    "            ax1.set_xlabel('R.A. (Deg)')\n",
    "            ax1.set_ylabel('DEC (deg)')\n",
    "            if i==2 or i==3:\n",
    "                freq_str=str(freq_array[k+4])\n",
    "                ax1.set_title('Diff'+'_0'+str(j)+' '+str(telescope_name[i])+'| LONG |'+str(freq_array[k+4])+'MHz')\n",
    "            else:\n",
    "                freq_str=str(freq_array[k])\n",
    "                ax1.set_title('Diff'+'_0'+str(j)+' '+str(telescope_name[i])+'| LONG |'+str(freq_array[k])+'MHz')\n",
    "            f.savefig(path+'fig/'+telescope_name[i]+'-LONG-'+freq_str+'MHz'+'_diff_0'+str(j)+'.png',dpi=100)\n",
    "            plt.close()"
   ]
  },
  {
   "cell_type": "code",
   "execution_count": 12,
   "metadata": {},
   "outputs": [
    {
     "name": "stdout",
     "output_type": "stream",
     "text": [
      "178.9848803112183\n",
      "[8.68055556e+03 3.47222222e+04 1.38888889e+05 3.12500000e+05\n",
      " 8.68055556e+05 3.47222222e+06 7.81250000e+06 1.38888889e+07]\n"
     ]
    }
   ],
   "source": [
    "print(Tbarray_snap[2][0][0].max())\n",
    "solar_model_max = np.max(solar_model,axis=(1,2))\n",
    "print(solar_model_max)"
   ]
  },
  {
   "cell_type": "code",
   "execution_count": 14,
   "metadata": {},
   "outputs": [],
   "source": [
    "diff = Tbarray_snap[1][2][0][:,::-1] - Tbarray_snap[1][0][0][:,::-1]\n",
    "f,ax1 = plt.subplots(1,1)\n",
    "im1=ax1.imshow(diff,cmap='YlGnBu',origin='lower',extent=[ra_grid[0][0],ra_grid[0][-1],dec_grid[:,0][0],dec_grid[:,0][-1]],vmin=-1.e-2,vmax=1.e-2)\n",
    "ax1.set_xlim(ra_grid[0][0],ra_grid[0][-1])\n",
    "ax1.set_ylim(dec_grid[:,0][0],dec_grid[:,0][-1])\n",
    "divider = make_axes_locatable(ax1)\n",
    "cax = divider.append_axes('right', size='5%', pad=0.05)\n",
    "f.colorbar(im1, cax=cax, orientation='vertical',label = 'SFU')\n",
    "ax1.set_xlabel('R.A. (Deg)')\n",
    "ax1.set_ylabel('DEC (deg)')\n",
    "ax1.set_title('SKA-low | Snapshot | 100 MHz')\n",
    "plt.show()"
   ]
  },
  {
   "cell_type": "code",
   "execution_count": 11,
   "metadata": {},
   "outputs": [],
   "source": [
    "# mwa,skalow,meerkat,skamid / three point source / frequency\n",
    "ra_x=ra_grid[0]-249.141666667\n",
    "yy1=Tbarray_snap[0][0][0][1024]/np.max(Tbarray_snap[0][0][0][1024])\n",
    "yy2=Tbarray_snap[1][0][0][1024]/np.max(Tbarray_snap[1][0][0][1024])\n",
    "f,ax1 = plt.subplots(1,1)\n",
    "ax1.plot(ra_x,yy1,'o-',label='MWA')\n",
    "ax1.plot(ra_x,yy2,'o-',label='SKA-low')\n",
    "ax1.set_ylabel('Flux density (SFU)')\n",
    "ax1.set_xlabel('Solar-X (arcsec)')\n",
    "ax1.legend()\n",
    "plt.show()"
   ]
  },
  {
   "cell_type": "code",
   "execution_count": 13,
   "metadata": {},
   "outputs": [],
   "source": [
    "# mwa,skalow,meerkat,skamid / three point source / frequency\n",
    "ra_x=ra_grid[0]-249.141666667\n",
    "yy1=Tbarray_snap[2][0][0][1024]/np.max(Tbarray_snap[2][0][0][1024])\n",
    "yy2=Tbarray_snap[3][0][0][1024]/np.max(Tbarray_snap[3][0][0][1024])\n",
    "f,ax1 = plt.subplots(1,1)\n",
    "ax1.plot(ra_x,yy1,'o-',label='Meerkat')\n",
    "ax1.plot(ra_x,yy2,'o-',label='SKA-mid')\n",
    "ax1.set_ylabel('Flux density (SFU)')\n",
    "ax1.set_xlabel('Solar-X (arcsec)')\n",
    "ax1.legend()\n",
    "plt.show()"
   ]
  },
  {
   "cell_type": "code",
   "execution_count": null,
   "metadata": {},
   "outputs": [],
   "source": []
  }
 ],
 "metadata": {
  "kernelspec": {
   "display_name": "karabo-dev-env",
   "language": "python",
   "name": "python3"
  },
  "language_info": {
   "codemirror_mode": {
    "name": "ipython",
    "version": 3
   },
   "file_extension": ".py",
   "mimetype": "text/x-python",
   "name": "python",
   "nbconvert_exporter": "python",
   "pygments_lexer": "ipython3",
   "version": "3.9.19"
  }
 },
 "nbformat": 4,
 "nbformat_minor": 2
}
