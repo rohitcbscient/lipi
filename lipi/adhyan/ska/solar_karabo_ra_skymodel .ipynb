{
 "cells": [
  {
   "cell_type": "code",
   "execution_count": 1,
   "metadata": {},
   "outputs": [
    {
     "name": "stderr",
     "output_type": "stream",
     "text": [
      "WARNING: AstropyDeprecationWarning: The private astropy._erfa module has been made into its own package, pyerfa, which is a dependency of astropy and can be imported directly using \"import erfa\" [astropy._erfa]\n"
     ]
    }
   ],
   "source": [
    "import numpy as np\n",
    "import os\n",
    "import pickle\n",
    "from astropy.io import fits\n",
    "from datetime import datetime, timedelta\n",
    "import matplotlib.pyplot as plt\n",
    "import matplotlib as mpl\n",
    "\n",
    "# mpl.use('Tkagg')\n",
    "from IPython.core.magic import register_cell_magic\n",
    "from karabo_simutils import *\n",
    "\n",
    "@register_cell_magic\n",
    "def skip(line, cell):\n",
    "    return"
   ]
  },
  {
   "cell_type": "markdown",
   "metadata": {},
   "source": [
    "## Radio Bursts "
   ]
  },
  {
   "cell_type": "code",
   "execution_count": 2,
   "metadata": {},
   "outputs": [],
   "source": [
    "freq_rb1 = np.linspace(80, 200, 100)\n",
    "duration_rb1 = np.linspace(3600, 3600 * 24, 100)  # in sec\n",
    "fd_rb1 = np.linspace(10, 100, 100)\n",
    "\n",
    "freq_rb2 = np.linspace(20, 150, 100)\n",
    "duration_rb2 = np.linspace(180, 1800, 100)  # in sec\n",
    "fd_rb2 = np.linspace(1000, 10000, 100)\n",
    "\n",
    "freq_rb3 = np.linspace(20, 150, 100)\n",
    "duration_rb3 = np.linspace(60, 3600, 100)  # in sec\n",
    "fd_rb3 = np.linspace(10, 100, 100)\n",
    "\n",
    "freq_rb4 = np.linspace(20, 150, 100)\n",
    "duration_rb4 = np.linspace(180, 3600, 100)  # in sec\n",
    "fd_rb4 = np.linspace(10, 100, 100)\n",
    "\n",
    "freq_rb5 = np.linspace(80, 200, 100)\n",
    "duration_rb5 = np.linspace(60, 180, 100)  # in sec\n",
    "fd_rb5 = np.linspace(10, 100, 100)"
   ]
  },
  {
   "cell_type": "markdown",
   "metadata": {},
   "source": [
    "## Plot radio burts time-frequency ranges"
   ]
  },
  {
   "cell_type": "code",
   "execution_count": 3,
   "metadata": {},
   "outputs": [],
   "source": [
    "# Data definition\n",
    "freq_rb1 = np.linspace(80, 200, 100)\n",
    "duration_rb1 = np.linspace(3600, 3600 * 24, 100)  # in sec\n",
    "\n",
    "freq_rb2 = np.linspace(20, 150, 100)\n",
    "duration_rb2 = np.linspace(180, 1800, 100)  # in sec\n",
    "\n",
    "freq_rb3 = np.linspace(20, 150, 100)\n",
    "duration_rb3 = np.linspace(60, 3600, 100)  # in sec\n",
    "\n",
    "freq_rb4 = np.linspace(20, 150, 100)\n",
    "duration_rb4 = np.linspace(180, 3600, 100)  # in sec\n",
    "\n",
    "freq_rb5 = np.linspace(80, 200, 100)\n",
    "duration_rb5 = np.linspace(60, 180, 100)  # in sec\n",
    "\n",
    "# Plotting\n",
    "plt.figure(figsize=(10, 6))\n",
    "\n",
    "plt.fill_between(freq_rb1, duration_rb1, label='RB1', alpha=0.4)\n",
    "plt.fill_between(freq_rb2, duration_rb2, label='RB2', alpha=0.4)\n",
    "plt.fill_between(freq_rb3, duration_rb3, label='RB3', alpha=0.4)\n",
    "plt.fill_between(freq_rb4, duration_rb4, label='RB4', alpha=0.4)\n",
    "plt.fill_between(freq_rb5, duration_rb5, label='RB5', alpha=0.4)\n",
    "\n",
    "plt.xlabel('Frequency (MHz)')\n",
    "plt.ylabel('Duration (s)')\n",
    "plt.title('Frequency-Time Plane with Patches')\n",
    "plt.legend()\n",
    "plt.grid(True)\n",
    "plt.yscale('log')  # Optional: log scale for better visual separation\n",
    "plt.tight_layout()\n",
    "plt.show()\n"
   ]
  },
  {
   "cell_type": "markdown",
   "metadata": {},
   "source": [
    "## Define Solar Disk"
   ]
  },
  {
   "cell_type": "code",
   "execution_count": 10,
   "metadata": {},
   "outputs": [
    {
     "name": "stdout",
     "output_type": "stream",
     "text": [
      "(12, 100) (256, 256) (256, 256)\n"
     ]
    }
   ],
   "source": [
    "#-------- Define SkyModel Parameters\n",
    "skymodel_path='/data/rohit/20151203_240MHz_psimas.fits'\n",
    "ra_sun_center=249.141666667;dec_sun_center=21.986 #16 34 34.52 -21 59 09.7\n",
    "skymodel_cellsize=22.5 # in arcsec\n",
    "start_frequency_hz_ = 150.e6\n",
    "sm_threshold = 0.1\n",
    "sm_fscale = 1 # spectral index\n",
    "add_sm = 'random' # 'point' / 'random'\n",
    "point_source_bool = False # tag 1 / tag 0 is ideal case\n",
    "point_flux = 100.e4\n",
    "random_points = False # tag 2\n",
    "if(add_sm=='random'):\n",
    "    size_ = 100\n",
    "else:\n",
    "    size_ = 1\n",
    "randsize = 100\n",
    "flux_rand_low = 10 # Jy\n",
    "flux_rand_high = 100 # Jy\n",
    "angle_rand = 0.3 # in degrees\n",
    "source_cut=16000\n",
    "save_sources = True\n",
    "path_ = '/data/rohit/solar-sky-models/'\n",
    "sm_type = 'rand'\n",
    "\n",
    "randfile = '/data/rohit/solar-sky-models/solar_ska1low_forward-20151203-rand_snap-1-min-1-channel_skymodel.sm'\n",
    "rand_array = np.loadtxt(randfile)\n",
    "sm_save_str = ''\n",
    "\n",
    "sky_data1,solar_map,solar_map_jy=get_solar_skydata(skymodel_path,sm_save_str, start_frequency_hz_,\\\n",
    "            ra_sun_center,dec_sun_center, skymodel_cellsize,sm_fscale,\\\n",
    "            sm_threshold, save_sources,source_cut,\\\n",
    "            add_sm, randfile, randsize, point_flux, flux_rand_low, flux_rand_high,angle_rand)\n",
    "print(sky_data1.shape,solar_map.shape, solar_map_jy.shape)\n",
    "f,ax = plt.subplots(1,1)\n",
    "ax.imshow(solar_map_jy,origin='lower')\n",
    "plt.show()"
   ]
  }
 ],
 "metadata": {
  "kernelspec": {
   "display_name": "karabo",
   "language": "python",
   "name": "python3"
  },
  "language_info": {
   "codemirror_mode": {
    "name": "ipython",
    "version": 3
   },
   "file_extension": ".py",
   "mimetype": "text/x-python",
   "name": "python",
   "nbconvert_exporter": "python",
   "pygments_lexer": "ipython3",
   "version": "3.9.20"
  }
 },
 "nbformat": 4,
 "nbformat_minor": 2
}
