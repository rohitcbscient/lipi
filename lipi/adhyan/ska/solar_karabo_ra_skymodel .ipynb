{
 "cells": [
  {
   "cell_type": "code",
   "execution_count": 1,
   "metadata": {},
   "outputs": [
    {
     "name": "stderr",
     "output_type": "stream",
     "text": [
      "WARNING: AstropyDeprecationWarning: The private astropy._erfa module has been made into its own package, pyerfa, which is a dependency of astropy and can be imported directly using \"import erfa\" [astropy._erfa]\n"
     ]
    }
   ],
   "source": [
    "import numpy as np\n",
    "import os\n",
    "import pickle\n",
    "from karabo.imaging.imager_oskar import OskarDirtyImager\n",
    "from karabo.imaging import imager_wsclean\n",
    "from karabo.simulation.interferometer import InterferometerSimulation\n",
    "from karabo.simulation.observation import Observation\n",
    "from karabo.simulation.sky_model import SkyModel\n",
    "from karabo.simulation.telescope import Telescope\n",
    "from karabo.simulation.visibility import Visibility\n",
    "from karabo.imaging.imager_oskar import OskarDirtyImager, OskarDirtyImagerConfig\n",
    "from karabo.simulator_backend import SimulatorBackend\n",
    "from astropy.io import fits\n",
    "from datetime import datetime, timedelta\n",
    "import matplotlib.pyplot as plt\n",
    "import matplotlib as mpl\n",
    "#mpl.use('Tkagg')\n",
    "from IPython.core.magic import register_cell_magic\n",
    "@register_cell_magic\n",
    "def skip(line, cell):\n",
    "    return"
   ]
  },
  {
   "cell_type": "markdown",
   "metadata": {},
   "source": [
    "## Radio Bursts "
   ]
  },
  {
   "cell_type": "code",
   "execution_count": null,
   "metadata": {},
   "outputs": [],
   "source": [
    "freq_rb1 = np.linspace(80,200,100)\n",
    "duration_rb1 = np.linspace(3,30,100)*60 # in sec\n"
   ]
  },
  {
   "cell_type": "code",
   "execution_count": null,
   "metadata": {},
   "outputs": [],
   "source": []
  }
 ],
 "metadata": {
  "kernelspec": {
   "display_name": "karabo",
   "language": "python",
   "name": "python3"
  },
  "language_info": {
   "codemirror_mode": {
    "name": "ipython",
    "version": 3
   },
   "file_extension": ".py",
   "mimetype": "text/x-python",
   "name": "python",
   "nbconvert_exporter": "python",
   "pygments_lexer": "ipython3",
   "version": "3.9.20"
  }
 },
 "nbformat": 4,
 "nbformat_minor": 2
}
