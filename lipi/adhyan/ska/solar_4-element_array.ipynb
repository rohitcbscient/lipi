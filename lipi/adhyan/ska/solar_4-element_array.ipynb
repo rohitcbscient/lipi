{
 "cells": [
  {
   "cell_type": "markdown",
   "metadata": {},
   "source": [
    "# This is notebook to do basic calculations for array design\n"
   ]
  },
  {
   "cell_type": "code",
   "execution_count": 2,
   "metadata": {},
   "outputs": [],
   "source": [
    "import numpy as np\n",
    "import sys\n",
    "import matplotlib.pyplot as plt"
   ]
  },
  {
   "cell_type": "code",
   "execution_count": null,
   "metadata": {},
   "outputs": [],
   "source": []
  },
  {
   "cell_type": "markdown",
   "metadata": {},
   "source": [
    "1. The half-power width at practically instantaneous time is typically 10 MHz, or 1.5%, at a center frequency of 600 MHz. $\\\\$\n",
    "2. Spike sources are not found at footpoints of flare loops \n",
    "3. Spike sources at very distant locations from the site of hard X-ray emission (20” to 400”)\n",
    "4. They have very small scatter in the position in time. \n",
    "5. Magnetic rearrangement or secondary acceleration\n",
    "\n"
   ]
  },
  {
   "cell_type": "code",
   "execution_count": 24,
   "metadata": {},
   "outputs": [
    {
     "name": "stdout",
     "output_type": "stream",
     "text": [
      "Total Bandwidth:  1000  MHz\n",
      "Sampling Rate:  2.0  GSamples per second\n",
      "Total Channels:  10000.0 ADC Data Rates:  2.0 GBPS\n",
      "Wavelength:  0.2 m  Primary Beam 2.864788975654116 deg\n",
      "Effective Area: 13.091829513097089 m$^2$\n",
      "Effective Diameter: 4.082772960746912 m\n"
     ]
    }
   ],
   "source": [
    "# Define Parameters\n",
    "\n",
    "chan_width = 100 # kHz\n",
    "start_nu = 500 # MHz\n",
    "end_nu = 1500 # MHz\n",
    "num_chan = int((end_nu-start_nu)/chan_width*1000)\n",
    "nu_array=np.linspace(start_nu,end_nu,num_chan)\n",
    "total_bw = end_nu - start_nu\n",
    "print('Total Bandwidth: ',total_bw,' MHz')\n",
    "nchan = total_bw / chan_width *1.e3\n",
    "nbits = 8\n",
    "sampling_rate = 2 * total_bw*1.e6\n",
    "print('Sampling Rate: ',sampling_rate/1.e9,' GSamples per second')\n",
    "adc_data_rate = sampling_rate*nbits\n",
    "print('Total Channels: ',nchan, 'ADC Data Rates: ',adc_data_rate/1.e9/8,'GBPS')\n",
    "\n",
    "obs_nu = 1500 # MHz\n",
    "D = 4 # Meters\n",
    "lam = 3.e8/obs_nu/1.e6\n",
    "theta = lam / D # rad\n",
    "theta_deg = theta * 180/np.pi \n",
    "print('Wavelength: ',lam, 'm',' Primary Beam',theta_deg, 'deg')\n",
    "\n",
    "SFU2SI = 1.e-22\n",
    "S_burst = 1 # SFU\n",
    "sigma_detection = 5\n",
    "time_res = 10 # in millisecond\n",
    "Tsys = 300 # in K\n",
    "Srms = S_burst/sigma_detection*SFU2SI\n",
    "kb = 1.38e-23\n",
    "Ae = 2*kb*Tsys/(Srms*np.sqrt(chan_width*1.e3*time_res*1.e-3))\n",
    "print('Effective Area:',Ae, 'm$^2$')\n",
    "reff=np.sqrt(Ae/np.pi)\n",
    "print('Effective Diameter:',2*reff, 'm')"
   ]
  }
 ],
 "metadata": {
  "kernelspec": {
   "display_name": "py39",
   "language": "python",
   "name": "python3"
  },
  "language_info": {
   "codemirror_mode": {
    "name": "ipython",
    "version": 3
   },
   "file_extension": ".py",
   "mimetype": "text/x-python",
   "name": "python",
   "nbconvert_exporter": "python",
   "pygments_lexer": "ipython3",
   "version": "3.9.18"
  }
 },
 "nbformat": 4,
 "nbformat_minor": 2
}
