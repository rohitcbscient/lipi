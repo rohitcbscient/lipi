{
 "cells": [
  {
   "cell_type": "code",
   "execution_count": 1,
   "metadata": {},
   "outputs": [
    {
     "name": "stderr",
     "output_type": "stream",
     "text": [
      "WARNING: AstropyDeprecationWarning: The private astropy._erfa module has been made into its own package, pyerfa, which is a dependency of astropy and can be imported directly using \"import erfa\" [astropy._erfa]\n"
     ]
    }
   ],
   "source": [
    "# Solar Simulation Demo\n",
    "# By Rohit Sharma, IIT Kanpur\n",
    "#------------------------------\n",
    "# Set up karabo environment: https://i4ds.github.io/Karabo-Pipeline/installation_user.html \n",
    "\n",
    "\n",
    "import numpy as np\n",
    "from astropy.io import fits\n",
    "from karabo.imaging.imager_oskar import OskarDirtyImager\n",
    "from karabo.imaging import imager_wsclean\n",
    "from karabo.simulation.interferometer import InterferometerSimulation\n",
    "from karabo.simulation.observation import Observation\n",
    "from karabo.simulation.sky_model import SkyModel\n",
    "from karabo.simulation.telescope import Telescope\n",
    "from karabo.simulation.visibility import Visibility\n",
    "from karabo.imaging.imager_oskar import OskarDirtyImager, OskarDirtyImagerConfig\n",
    "from karabo.simulator_backend import SimulatorBackend\n",
    "from astropy.io import fits\n",
    "from datetime import datetime, timedelta"
   ]
  },
  {
   "cell_type": "markdown",
   "metadata": {},
   "source": [
    "**Telescope Configuration settings:** Path to tm files of the telescopes\n",
    "More telescopes: \"https://github.com/i4Ds/Karabo-Pipeline/tree/main/karabo/data\""
   ]
  },
  {
   "cell_type": "code",
   "execution_count": 2,
   "metadata": {},
   "outputs": [],
   "source": [
    "#telescope_path = '/media/rohit/sdata/ska-solar-files/meerkat.tm'\n",
    "telescope_path = '/data/rohit/skao_repo/ska1mid.tm'\n",
    "#telescope_path = '/data/rohit/skao_repo/ska-mid-AAstar.tm'\n",
    "#telescope_path = '/data/rohit/skao_repo/ska-mid-AA2.tm'\n",
    "#telescope_path = '/data/rohit/skao_repo/ska-mid-AA1.tm'\n",
    "#telescope_path = '/media/rohit/sdata/ska-solar-files/mwa.phase1.tm'\n",
    "#telescope_path = '/media/rohit/sdata/ska-solar-files/ska1low.tm'\n"
   ]
  },
  {
   "cell_type": "markdown",
   "metadata": {},
   "source": [
    "**Skymodel Settings:**\n",
    "+ Path to the fits to the models, incase of an image\n",
    "+ Takes numpy array as inputs with minimum three columns of the source properties, i.e. RA (deg), DEC (deg), and Flux density (Jy)"
   ]
  },
  {
   "cell_type": "code",
   "execution_count": 2,
   "metadata": {},
   "outputs": [],
   "source": [
    "path = '/data/rohit/ska-mid-sim-demo/'\n",
    "start_frequency_hz_ = 240*1.e6\n",
    "beam_size_arcsec = 1\n",
    "aa=fits.open('/data/rohit/20151203_240MHz_psimas.fits')\n",
    "ms_filename = path+\"solar_240MHz_ska-mid.ms\"\n",
    "vis_filename = path+\"solar_freq_240MHz_ska-mid.vis\"\n",
    "solar_map=aa[0].data;solar_map_jy=solar_map/np.nanmax(solar_map)*20*1.e4*(start_frequency_hz_/2.4e8)**1\n",
    "ra_sun_center=249.141666667;dec_sun_center=21.986 #16 34 34.52 -21 59 09.7\n",
    "ra_grid,dec_grid=np.meshgrid((np.arange(256)-128)*22.5/3600.,(np.arange(256)-128)*22.5/3600.)\n",
    "ra_grid=ra_grid+ra_sun_center;dec_grid=dec_grid+dec_sun_center\n",
    "idx=np.where(solar_map>0.1*np.nanmax(solar_map))\n",
    "sky_model_ra=ra_grid[idx];sky_model_dec=dec_grid[idx];flux=solar_map_jy[idx]"
   ]
  },
  {
   "cell_type": "markdown",
   "metadata": {},
   "source": [
    "**Run Simulation**"
   ]
  },
  {
   "cell_type": "code",
   "execution_count": 4,
   "metadata": {},
   "outputs": [
    {
     "name": "stdout",
     "output_type": "stream",
     "text": [
      "W|                                                                   \n",
      "W|== WARNING: No GPU capability available.\n",
      "W|                                                                   \n",
      "Saved visibility to /data/rohit/ska-mid-sim-demo/solar_freq_240MHz_ska-mid.vis\n"
     ]
    }
   ],
   "source": [
    "\n",
    "# Simulation Settings \n",
    "hour_=0\n",
    "minutes_=1\n",
    "noise_enable_ = False\n",
    "enable_array_beam=False\n",
    "ntchan =1\n",
    "nchan = 1\n",
    "sky = SkyModel()\n",
    "sky_data = np.array([sky_model_ra, sky_model_dec, flux,np.zeros(len(flux)), \\\n",
    "    np.zeros(len(flux)),np.zeros(len(flux)), np.zeros(len(flux)),np.zeros(len(flux)), \\\n",
    "np.zeros(len(flux)),np.zeros(len(flux)), np.zeros(len(flux)),np.zeros(len(flux))]).T\n",
    "sky_data=sky_data[0:16000,:]\n",
    "sky.add_point_sources(sky_data)\n",
    "#telescope_name=\"SKA1MID\"\n",
    "#telescope=Telescope.get_SKA1_LOW_Telescope()\n",
    "dtime=datetime(2000, 1, 1, 10, 0, 00, 0) # MeerKAT/ SKA-mid\n",
    "#dtime=datetime(2000, 1, 1, 4, 0, 00, 0) # MWA / SKA-low\n",
    "backend=SimulatorBackend.OSKAR\n",
    "#telescope = Telescope.constructor(telescope_name, backend=backend)\n",
    "telescope=Telescope.read_OSKAR_tm_file(telescope_path)\n",
    "telescope.read_OSKAR_tm_file(telescope_path)\n",
    "simulation = InterferometerSimulation(vis_path=vis_filename, ms_file_path=ms_filename,\n",
    "    channel_bandwidth_hz=1, time_average_sec=10, noise_enable=noise_enable_, use_gpus=True,\n",
    "    noise_seed=\"time\", noise_freq=\"Range\", noise_rms=\"Range\", \n",
    "    noise_start_freq=1.e9, noise_inc_freq=1.e8, noise_number_freq=24, \n",
    "    noise_rms_start=0, noise_rms_end=0, enable_numerical_beam=enable_array_beam,\n",
    "    enable_array_beam=enable_array_beam) \n",
    "observation = Observation(mode='Tracking',phase_centre_ra_deg=ra_sun_center, start_date_and_time=dtime, \n",
    "    length=timedelta(hours=hour_, minutes=minutes_, seconds=0, milliseconds=0), \n",
    "    phase_centre_dec_deg=dec_sun_center, number_of_time_steps=1, \n",
    "    start_frequency_hz=start_frequency_hz_, frequency_increment_hz=1, \n",
    "    number_of_channels=1, ) \n",
    "\n",
    "# Run the interferometer\n",
    "visibility = simulation.run_simulation(telescope, sky, observation, backend=backend)\n"
   ]
  },
  {
   "cell_type": "markdown",
   "metadata": {},
   "source": [
    "**Imaging from the Visibilities**"
   ]
  },
  {
   "cell_type": "code",
   "execution_count": null,
   "metadata": {},
   "outputs": [
    {
     "name": "stdout",
     "output_type": "stream",
     "text": [
      "W|                                                                   \n",
      "W|== WARNING: Skipped 542 visibility points.\n",
      "W|                                                                   \n"
     ]
    },
    {
     "name": "stderr",
     "output_type": "stream",
     "text": [
      "/home/rohit/miniconda3/envs/karabo/lib/python3.9/site-packages/karabo/imaging/image.py:119: UserWarning: Received 3D data for image object.\n",
      "                Will assume the 3 axes correspond to\n",
      "                (polarisations, pixels_x, pixels_y).\n",
      "                Inserting 1 additional axis for frequencies.\n",
      "  warnings.warn(\n"
     ]
    },
    {
     "name": "stdout",
     "output_type": "stream",
     "text": [
      "wsclean         -size 2096 2096         -name /data/rohit/ska-mid-sim-demo/solar_freq_240MHz_ska-mid_wsclean.fits         -scale 9.69627362219072e-06rad -niter 2 -mgain 0.8         -weight uniform        -maxuv-l 9000 -minuv-l 10        -channels-out 1 /data/rohit/ska-mid-sim-demo/solar_240MHz_ska-mid.ms\n",
      "Creating \u001b[94m\u001b[1m/tmp/karabo-STM-rohit-TRnaSBphUX/WSClean-custom-HiPXT8zvvZ\u001b[0m for Disk cache for WSClean custom command images\n",
      "WSClean command: [cd /tmp/karabo-STM-rohit-TRnaSBphUX/WSClean-custom-HiPXT8zvvZ && OPENBLAS_NUM_THREADS=1 wsclean         -size 2096 2096         -name /data/rohit/ska-mid-sim-demo/solar_freq_240MHz_ska-mid_wsclean.fits         -scale 9.69627362219072e-06rad -niter 2 -mgain 0.8         -weight uniform        -maxuv-l 9000 -minuv-l 10        -channels-out 1 /data/rohit/ska-mid-sim-demo/solar_240MHz_ska-mid.ms]\n",
      "WSClean output:\n",
      "[\n",
      "WSClean version 3.4 (2023-10-11)\n",
      "This software package is released under the GPL version 3.\n",
      "Author: André Offringa (offringa@gmail.com).\n",
      "\n",
      "No corrected data in first measurement set: tasks will be applied on the data column.\n",
      "=== IMAGING TABLE ===\n",
      "       # Pol Ch JG ²G FG FI In Freq(MHz)\n",
      "| Independent group:\n",
      "+-+-J- 0  I   0  0  0  0  0  0  240-240 (1)\n",
      "WARNING: This measurement set has no or an invalid WEIGHT_SPECTRUM column; will use less informative WEIGHT column.\n",
      "Reordering /data/rohit/ska-mid-sim-demo/solar_240MHz_ska-mid.ms into 1 x 1 parts.\n",
      "Reordering: 0%....10%....20%....30%....40%....50%....60%....70%....80%....90%....100%\n",
      "Initializing model visibilities: 0%....10%....20%....30%....40%....50%....60%....70%....80%....90%....100%\n",
      " == Constructing PSF ==\n",
      "Precalculating weights for uniform weighting...\n",
      "Opening reordered part 0 spw 0 for /data/rohit/ska-mid-sim-demo/solar_240MHz_ska-mid.ms\n",
      "Detected 251.8 GB of system memory, usage not limited.\n",
      "Opening reordered part 0 spw 0 for /data/rohit/ska-mid-sim-demo/solar_240MHz_ska-mid.ms\n",
      "Determining min and max w & theoretical beam size... DONE (w=[0.060882:13831.3] lambdas, maxuvw=16488.5 lambda)\n",
      "Theoretic beam = 12.51''\n",
      "Minimal inversion size: 805 x 805, using optimal: 840 x 840\n",
      "Loading data in memory...\n",
      "Gridding 19306 rows...\n",
      "Gridded visibility count: 14360\n",
      "Fitting beam... major=60.5'', minor=29.43'', PA=157.7 deg, theoretical=12.51''.\n",
      "Writing psf image... DONE\n",
      " == Constructing image ==\n",
      "Opening reordered part 0 spw 0 for /data/rohit/ska-mid-sim-demo/solar_240MHz_ska-mid.ms\n",
      "Loading data in memory...\n",
      "Gridding 19306 rows...\n",
      "Gridded visibility count: 14360\n",
      "Writing dirty image...\n",
      " == Deconvolving (1) ==\n",
      "Estimated standard deviation of background noise: 68.06 KJy\n",
      "Initial peak: 888.07 KJy at 652,1131\n",
      "Next major iteration at: 177.61 KJy\n",
      "Performed 2 iterations in total, 2 in this major iteration with sub-minor optimization.\n",
      "Stopped on peak 867.33 KJy, because maximum number of iterations was reached.\n",
      "Maximum number of minor deconvolution iterations was reached: not continuing deconvolution.\n",
      "Assigning from 1 to 1 channels...\n",
      "Writing model image...\n",
      " == Converting model image to visibilities ==\n",
      "Opening reordered part 0 spw 0 for /data/rohit/ska-mid-sim-demo/solar_240MHz_ska-mid.ms\n",
      "Predicting 19306 rows...\n",
      "Writing...\n",
      " == Constructing image ==\n",
      "Opening reordered part 0 spw 0 for /data/rohit/ska-mid-sim-demo/solar_240MHz_ska-mid.ms\n",
      "Loading data in memory...\n",
      "Gridding 19306 rows...\n",
      "Gridded visibility count: 14360\n",
      "1 major iterations were performed.\n",
      "Rendering sources to restored image (beam=29.43''-60.5'', PA=157.7 deg)... DONE\n",
      "Writing restored image... DONE\n",
      "Inversion: 00:00:01.789344, prediction: 00:00:00.615973, deconvolution: 00:00:00.457008\n",
      "Adding model data column... DONE\n",
      "Writing changed model back to /data/rohit/ska-mid-sim-demo/solar_240MHz_ska-mid.ms:\n",
      " 0%....10%....20%....30%....40%....50%....60%....70%....80%....90%....100%\n",
      "Cleaning up temporary files...\n",
      "]\n"
     ]
    }
   ],
   "source": [
    "\n",
    "# Imaging Settings & Using WSCLEAN\n",
    "\n",
    "npix_per_beam = 3\n",
    "imgsize=2096\n",
    "cellsize_arcsec=2 #beam_size_arcsec/npix_per_beam\n",
    "cellsize_rad=cellsize_arcsec/3600*np.pi/180 # in rad\n",
    "dirty_imager = OskarDirtyImager(\n",
    "    OskarDirtyImagerConfig(\n",
    "        imaging_npixel=imgsize,\n",
    "        imaging_cellsize=cellsize_rad,\n",
    "    ))\n",
    "dirty_oskar_img = path+\"solar_freq_240MHz_ska-mid_oskar.fits\"\n",
    "dirty_image = dirty_imager.create_dirty_image(visibility,output_fits_path=dirty_oskar_img)\n",
    "dirty_wsclean_img = path+\"solar_freq_240MHz_ska-mid_wsclean.fits\"\n",
    "img_cmd = 'wsclean \\\n",
    "        -size '+str(imgsize)+' '+str(imgsize)+' \\\n",
    "        -name '+dirty_wsclean_img+' \\\n",
    "        -scale '+str(cellsize_rad)+'rad -niter 2 -mgain 0.8 \\\n",
    "        -weight uniform\\\n",
    "        -maxuv-l 9000 -minuv-l 10\\\n",
    "        -channels-out '+str(nchan)+' '+ms_filename\n",
    "print(img_cmd)\n",
    "try:\n",
    "    restored = imager_wsclean.create_image_custom_command(command=img_cmd)\n",
    "except:\n",
    "    pass # doing nothing on exception       "
   ]
  }
 ],
 "metadata": {
  "kernelspec": {
   "display_name": "karabo",
   "language": "python",
   "name": "python3"
  },
  "language_info": {
   "codemirror_mode": {
    "name": "ipython",
    "version": 3
   },
   "file_extension": ".py",
   "mimetype": "text/x-python",
   "name": "python",
   "nbconvert_exporter": "python",
   "pygments_lexer": "ipython3",
   "version": "3.9.20"
  }
 },
 "nbformat": 4,
 "nbformat_minor": 2
}
