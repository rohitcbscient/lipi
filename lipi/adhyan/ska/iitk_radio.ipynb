{
 "cells": [
  {
   "cell_type": "code",
   "execution_count": 34,
   "metadata": {},
   "outputs": [],
   "source": [
    "import numpy as np\n",
    "from datetime import datetime, timedelta\n",
    "import matplotlib.pyplot as plt\n",
    "import matplotlib as mpl\n",
    "mpl.use('Tkagg')\n",
    "import glob\n",
    "from numpy import genfromtxt\n",
    "import os"
   ]
  },
  {
   "cell_type": "code",
   "execution_count": 117,
   "metadata": {},
   "outputs": [
    {
     "name": "stdout",
     "output_type": "stream",
     "text": [
      "Number of High CSV files:  55 Number of Low CSV files:  58\n",
      "(20, 3, 2000, 2)\n",
      "(2000,) (20, 2000, 2) (2000, 2)\n",
      "58 [0, 0, 0, 0, 0, 0, 0, 0, 0, 0]\n"
     ]
    },
    {
     "name": "stderr",
     "output_type": "stream",
     "text": [
      "/tmp/ipykernel_192691/3246975021.py:56: RuntimeWarning: Mean of empty slice\n",
      "  Ndata_LH_ave = np.nanmean(Ndata_LH,axis=1)\n",
      "/tmp/ipykernel_192691/3246975021.py:57: RuntimeWarning: Mean of empty slice\n",
      "  Sdata_LH_ave = np.nanmean(Sdata_LH,axis=1)\n",
      "/tmp/ipykernel_192691/3246975021.py:58: RuntimeWarning: Mean of empty slice\n",
      "  data_LH_ave = np.nanmean(data_LH,axis=1)\n",
      "/tmp/ipykernel_192691/3246975021.py:65: RuntimeWarning: Mean of empty slice\n",
      "  data_LH_ave_station = np.nanmean(data_LH_ave,axis=0)\n",
      "/tmp/ipykernel_192691/3246975021.py:66: RuntimeWarning: All-NaN slice encountered\n",
      "  data_LH_max_station = np.nanmax(data_LH_ave,axis=0)\n"
     ]
    }
   ],
   "source": [
    "file_path = '/media/rohit/data/Dropbox/IITK_docs/IITK_radio_project/CSV/'\n",
    "file_H_list = sorted(glob.glob(file_path+'tinysa_*-H-*.csv'))\n",
    "file_L_list = sorted(glob.glob(file_path+'tinysa_*-L-*.csv'))\n",
    "print('Number of High CSV files: ',len(file_H_list),'Number of Low CSV files: ',len(file_L_list))\n",
    "\n",
    "location_list = [0]*11\n",
    "num_reading = [0]*3\n",
    "Hdata = [0]*len(file_H_list)\n",
    "Hlocation = [0]*len(file_H_list)\n",
    "Hreading = [0]*len(file_H_list)\n",
    "for i in range(len(file_H_list)):\n",
    "    Hdata[i]=genfromtxt(file_H_list[i], delimiter=';')\n",
    "    Hlocation[i] = file_H_list[i].split('-')[6]\n",
    "    Hreading[i]  = file_H_list[i].split('-')[7][0]\n",
    "Ldata = [0]*len(file_L_list)\n",
    "Llocation = [0]*len(file_L_list)\n",
    "Lreading = [0]*len(file_L_list)\n",
    "for i in range(len(file_L_list)):\n",
    "    Ldata[i]=genfromtxt(file_L_list[i], delimiter=';')\n",
    "    Llocation[i] = file_L_list[i].split('-')[6]\n",
    "    Lreading[i]  = file_L_list[i].split('-')[7][0]\n",
    "Hdata = np.array(Hdata)\n",
    "Ldata = np.array(Ldata)\n"
   ]
  },
  {
   "cell_type": "code",
   "execution_count": null,
   "metadata": {},
   "outputs": [],
   "source": [
    "lat = np.array([26.51528863,26.51558621,26.5190082,26.51903462,\n",
    "26.51758627,26.51081389,26.51941254,26.51587795,26.51139777,26.51136307,26.51949086,26.50749538,\n",
    "26.51062847,26.50915818,26.50338788,26.50909203,26.50484582,26.50604376,26.50636934,26.50614163])\n",
    "\n",
    "lon = np.array([80.2332344,80.23615338,80.23730147,80.23944022,80.22844475,80.24612123,80.23066238,\n",
    "80.24191717,80.22343352,80.23390034,80.23372003,80.23886692,80.23855094,80.23343434,80.22881447,\n",
    "80.22559678,80.22565092,80.22995781,80.23453898,80.22236378])\n",
    "\n",
    "loc = ['N1','N2','N3','N4','N5','N6','N7','N8','N9','N10','N11','S1','S2','S3','S4','S5','S6','S7','S8','S9]"
   ]
  },
  {
   "cell_type": "code",
   "execution_count": 119,
   "metadata": {},
   "outputs": [
    {
     "name": "stdout",
     "output_type": "stream",
     "text": [
      "[0, 0, 0, 0, 0, 0, 0, 0, 0, 0]\n",
      "(20, 3, 2000, 2)\n",
      "(2000,) (20, 2000, 2) (2000, 2)\n",
      "58 [0, 0, 0, 0, 0, 0, 0, 0, 0, 0]\n"
     ]
    },
    {
     "name": "stderr",
     "output_type": "stream",
     "text": [
      "/tmp/ipykernel_192691/602462494.py:32: RuntimeWarning: Mean of empty slice\n",
      "  Ndata_LH_ave = np.nanmean(Ndata_LH,axis=1)\n",
      "/tmp/ipykernel_192691/602462494.py:33: RuntimeWarning: Mean of empty slice\n",
      "  Sdata_LH_ave = np.nanmean(Sdata_LH,axis=1)\n",
      "/tmp/ipykernel_192691/602462494.py:34: RuntimeWarning: Mean of empty slice\n",
      "  data_LH_ave = np.nanmean(data_LH,axis=1)\n",
      "/tmp/ipykernel_192691/602462494.py:41: RuntimeWarning: Mean of empty slice\n",
      "  data_LH_ave_station = np.nanmean(data_LH_ave,axis=0)\n",
      "/tmp/ipykernel_192691/602462494.py:42: RuntimeWarning: All-NaN slice encountered\n",
      "  data_LH_max_station = np.nanmax(data_LH_ave,axis=0)\n"
     ]
    }
   ],
   "source": [
    "Hflist = ['0']\n",
    "Lflist = ['0']\n",
    "Ndata_LH = np.zeros((10,3,2000,2))\n",
    "Sdata_LH = np.zeros((10,3,2000,2))\n",
    "hd=np.zeros((1000,2))*np.nan\n",
    "ld=np.zeros((1000,2))*np.nan\n",
    "locN = [0]*10;locS = [0]*10\n",
    "for i in range(10):\n",
    "    for j in range(3):\n",
    "        Hflist = sorted(glob.glob(file_path+'tiny*H-N'+str(i)+'-'+str(j)+'.csv'))\n",
    "        Lflist = sorted(glob.glob(file_path+'tiny*L-N'+str(i)+'-'+str(j)+'.csv'))\n",
    "        if(len(Hflist)>1):\n",
    "            hd = genfromtxt(Hflist, delimiter=';')\n",
    "            locN[i] = Hflist.split('-')[6]\n",
    "        if(len(Lflist)>1):\n",
    "            ld = genfromtxt(Lflist, delimiter=';')\n",
    "        Ndata_LH[i,j] = np.vstack((hd,ld))\n",
    "        #---------------------------------------\n",
    "        hd=np.zeros((1000,2))*np.nan\n",
    "        ld=np.zeros((1000,2))*np.nan\n",
    "        Hflist = sorted(glob.glob(file_path+'tiny*H-S'+str(i)+'-'+str(j)+'.csv'))\n",
    "        Lflist = sorted(glob.glob(file_path+'tiny*L-N'+str(i)+'-'+str(j)+'.csv'))\n",
    "        if(len(Hflist)>1):\n",
    "            hd = genfromtxt(Hflist, delimiter=';')\n",
    "            locS[i] = Hflist.split('-')[6]\n",
    "        if(len(Lflist)>1):\n",
    "            ld = genfromtxt(Lflist, delimiter=';')\n",
    "        Sdata_LH[i,j] = np.vstack((hd,ld))\n",
    "locNS = locN+locS\n",
    "print(locN)\n",
    "data_LH = np.vstack((Ndata_LH,Sdata_LH))\n",
    "Ndata_LH_ave = np.nanmean(Ndata_LH,axis=1)\n",
    "Sdata_LH_ave = np.nanmean(Sdata_LH,axis=1)\n",
    "data_LH_ave = np.nanmean(data_LH,axis=1)\n",
    "print(data_LH.shape)\n",
    "hd = genfromtxt(file_H_list[0], delimiter=';')\n",
    "ld = genfromtxt(file_L_list[1], delimiter=';')\n",
    "f_harray = hd[:,0]/1.e6\n",
    "f_larray = ld[:,0]/1.e6\n",
    "f_array = np.hstack((f_larray,f_harray))\n",
    "data_LH_ave_station = np.nanmean(data_LH_ave,axis=0)\n",
    "data_LH_max_station = np.nanmax(data_LH_ave,axis=0)\n",
    "print(f_array.shape,data_LH_ave.shape,data_LH_ave_station.shape)\n",
    "print(len(Llocation),locN)"
   ]
  },
  {
   "cell_type": "code",
   "execution_count": 74,
   "metadata": {},
   "outputs": [],
   "source": [
    "from mpl_toolkits.axes_grid1 import make_axes_locatable\n",
    "\n",
    "f,ax=plt.subplots(1,1)\n",
    "ax.plot(f_larray,data_LH_ave[2,0:1000,1],label='LOW')\n",
    "ax.plot(f_harray,data_LH_ave[2,1000:,1],label='HIGH')\n",
    "ax.legend()\n",
    "plt.show()"
   ]
  },
  {
   "cell_type": "code",
   "execution_count": 79,
   "metadata": {},
   "outputs": [],
   "source": [
    "f,ax=plt.subplots(1,1)\n",
    "ax.plot(f_larray,data_LH_max_station[0:1000,1],label='LOW')\n",
    "ax.plot(f_harray,data_LH_max_station[1000:,1],label='HIGH')\n",
    "ax.legend()\n",
    "plt.show()"
   ]
  },
  {
   "cell_type": "code",
   "execution_count": 100,
   "metadata": {},
   "outputs": [],
   "source": [
    "f,(ax0,ax1) = plt.subplots(2,1)\n",
    "im0 = ax0.imshow(data_LH_ave[:,0:1000,1],origin = 'lower', extent=[f_array[0],f_array[1000],0,20],\n",
    "               aspect = 'auto',interpolation = 'None',vmin=-140,vmax=-50)\n",
    "im1 = ax1.imshow(data_LH_ave[:,1000:,1],origin = 'lower', extent=[f_array[1000],f_array[1999],0,20],\n",
    "               aspect = 'auto',interpolation = 'None',vmin=-140,vmax=-50)\n",
    "f.colorbar(im0,label='(dBm)')\n",
    "f.colorbar(im1,label='(dBm)')\n",
    "ax1.set_xlabel('Frequency (MHz)')\n",
    "ax0.set_yticks()\n",
    "ax0.set_yticklabels()\n",
    "plt.show()"
   ]
  },
  {
   "cell_type": "code",
   "execution_count": null,
   "metadata": {},
   "outputs": [],
   "source": [
    "#telescope.plot_telescope()\n",
    "#plt.show()"
   ]
  },
  {
   "cell_type": "code",
   "execution_count": null,
   "metadata": {},
   "outputs": [
    {
     "name": "stdout",
     "output_type": "stream",
     "text": [
      "0.0982856464058907\n"
     ]
    }
   ],
   "source": [
    "print(npix_per_beam)"
   ]
  },
  {
   "cell_type": "code",
   "execution_count": null,
   "metadata": {},
   "outputs": [],
   "source": []
  }
 ],
 "metadata": {
  "kernelspec": {
   "display_name": "py39",
   "language": "python",
   "name": "python3"
  },
  "language_info": {
   "codemirror_mode": {
    "name": "ipython",
    "version": 3
   },
   "file_extension": ".py",
   "mimetype": "text/x-python",
   "name": "python",
   "nbconvert_exporter": "python",
   "pygments_lexer": "ipython3",
   "version": "3.9.18"
  }
 },
 "nbformat": 4,
 "nbformat_minor": 2
}
