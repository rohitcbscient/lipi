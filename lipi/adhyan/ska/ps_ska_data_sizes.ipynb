{
 "cells": [
  {
   "cell_type": "markdown",
   "id": "97535f30",
   "metadata": {},
   "source": [
    "## Datasize calculator for SKA workflows"
   ]
  },
  {
   "cell_type": "code",
   "execution_count": 1,
   "id": "cdf8e3e5",
   "metadata": {},
   "outputs": [],
   "source": [
    "def mid_src_visibility_size_TB(n_ants, n_chan, obs_time, int_time=0.14):\n",
    "    \"\"\"CBF to SDP Visibility data size in TB \n",
    "    Parameters\n",
    "        n_ants - Number of antennas in the array\n",
    "        n_chan - Number of channels\n",
    "        obs_time - Observation duration in seconds\n",
    "        int_time - Time resolution in seconds\n",
    "        freq_res - Frequency resolution in Hz\n",
    "    \"\"\"\n",
    "    n_baselines=(n_ants*(n_ants+1))/2\n",
    "    n_rows = n_baselines * int( obs_time / int_time)\n",
    "    # What does a single row in an averaged MS contain?\n",
    "    sb_size = n_rows * (\n",
    "        (7*8) + \\\n",
    "        (4+(4*n_chan)) + \\\n",
    "        (4*11) + \\\n",
    "        (8*1) + \\\n",
    "        (4) + \\\n",
    "        (4 * (8 + 8*n_chan + 4*n_chan)))\n",
    "    # Convert byte length to TB\n",
    "    sb_size /= (1024**4)\n",
    "    return sb_size\n",
    "\n",
    "def low_src_visibility_size_TB(n_ants, n_chan, obs_time, int_time=0.85):\n",
    "    \"\"\"CBF to SDP Visibility data size in TB \n",
    "    Parameters\n",
    "        n_ants - Number of antennas in the array\n",
    "        n_chan - Number of channels\n",
    "        obs_time - Observation duration in seconds\n",
    "        int_time - Time resolution in seconds\n",
    "        freq_res - Frequency resolution in Hz\n",
    "    \"\"\"\n",
    "    n_baselines=(n_ants*(n_ants+1))/2\n",
    "    n_rows = n_baselines * int( obs_time / int_time)\n",
    "    # What does a single row in an averaged MS contain?\n",
    "    sb_size = n_rows * (\n",
    "        (7*8) + \\\n",
    "        (4+(4*n_chan)) + \\\n",
    "        (4*11) + \\\n",
    "        (8*1) + \\\n",
    "        (4) + \\\n",
    "        (4 * (8 + 8*n_chan + 4*n_chan)))\n",
    "    # Convert byte length to TB\n",
    "    sb_size /= (1024**4)\n",
    "    return sb_size\n"
   ]
  },
  {
   "cell_type": "code",
   "execution_count": 2,
   "id": "9de05798",
   "metadata": {},
   "outputs": [],
   "source": [
    "def mid_src_im_size_TB(max_bl, n_chan_image, n_pols, n_products, n_beams, station_diameter=15.):\n",
    "    \"\"\"\n",
    "    Image size calculation in TB\n",
    "    \"\"\"\n",
    "    image_size=7.5*(max_bl/station_diameter)**2 * (32/8) # Bytes\n",
    "    #The 7.5 factor comes from assuming 2xFOV, 3 times sampling of the PSF, and the 1.25 factor in lambda/D\n",
    "    final_cube= n_beams * n_pols * n_chan_image * image_size *(n_products-1) + (image_size) #last part is the PSF which will be 1 channel\n",
    "    \n",
    "    return final_cube / (1024**4)\n",
    "\n",
    "def low_src_im_size_TB(max_bl, n_chan_image, n_pols, n_products, n_beams, station_diameter=39.):\n",
    "    \"\"\"\n",
    "    Image size calculation in TB\n",
    "    \"\"\"\n",
    "    image_size=7.5*(max_bl/station_diameter)**2 * (32/8) # Bytes\n",
    "    #The 7.5 factor comes from assuming 2xFOV, 3 times sampling of the PSF, and the 1.25 factor in lambda/D\n",
    "    final_cube= n_beams * n_pols * n_chan_image * image_size *(n_products-1) + (image_size) #last part is the PSF which will be 1 channel\n",
    "    \n",
    "    return final_cube / (1024**4)\n",
    "\n"
   ]
  },
  {
   "cell_type": "code",
   "execution_count": 5,
   "id": "b79c4519",
   "metadata": {},
   "outputs": [
    {
     "name": "stdout",
     "output_type": "stream",
     "text": [
      "Raw SDP to SRC vis: 0.18 TB per 4 hours\n",
      "Raw SDP to SRC vis: 203.29 TB per 4 hours\n",
      "averaged cont SDP to SRC vis: 71.11 TB per 4 hours\n",
      "averaged SDP to SRC vis: 5.69 TB per 4 hours\n",
      "Image cube full SDP to SRC im: 67.8948 TB per 4 hours\n",
      "Image cube 40 chans SDP to SRC im: 0.6803 TB per 4 hours\n",
      "Image cube 1 MFS SDP to SRC im: 0.0057 TB per 4 hours\n",
      "\n"
     ]
    }
   ],
   "source": [
    "# Primary SDP-to-SRC data product size for a 4h SB is\n",
    "# Raw visibilities with no averaging\n",
    "# MFS images and IQUV cubes\n",
    "print(f\"Raw SDP to SRC vis: {mid_src_visibility_size_TB(n_ants=144, n_chan=40, obs_time=0.3333*3600., int_time=0.14):0.2f} TB per 4 hours\")\n",
    "print(f\"Raw SDP to SRC vis: {mid_src_visibility_size_TB(n_ants=144, n_chan=4000, obs_time=4*3600., int_time=0.14):0.2f} TB per 4 hours\")\n",
    "\n",
    "print(f\"averaged cont SDP to SRC vis: {mid_src_visibility_size_TB(n_ants=144, n_chan=25000, obs_time=8*3600., int_time=5):0.2f} TB per 4 hours\")\n",
    "print(f\"averaged SDP to SRC vis: {mid_src_visibility_size_TB(n_ants=144, n_chan=4000, obs_time=4*3600., int_time=5):0.2f} TB per 4 hours\")\n",
    "\n",
    "print(f\"Image cube full SDP to SRC im: {mid_src_im_size_TB(max_bl=108e3, n_chan_image=4000, n_pols=4, n_products=4, n_beams=1, station_diameter=15.):0.4f} TB per 4 hours\")\n",
    "print(f\"Image cube 40 chans SDP to SRC im: {mid_src_im_size_TB(max_bl=108e3, n_chan_image=40, n_pols=4, n_products=4, n_beams=1, station_diameter=15.):0.4f} TB per 4 hours\")\n",
    "print(f\"Image cube 1 MFS SDP to SRC im: {mid_src_im_size_TB(max_bl=108e3, n_chan_image=1, n_pols=1, n_products=4, n_beams=1, station_diameter=15.):0.4f} TB per 4 hours\")\n",
    "\n",
    "\n",
    "print(\"\")"
   ]
  }
 ],
 "metadata": {
  "kernelspec": {
   "display_name": "py39",
   "language": "python",
   "name": "python3"
  },
  "language_info": {
   "codemirror_mode": {
    "name": "ipython",
    "version": 3
   },
   "file_extension": ".py",
   "mimetype": "text/x-python",
   "name": "python",
   "nbconvert_exporter": "python",
   "pygments_lexer": "ipython3",
   "version": "3.9.18"
  }
 },
 "nbformat": 4,
 "nbformat_minor": 5
}
